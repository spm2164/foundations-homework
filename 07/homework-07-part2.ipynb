{
 "cells": [
  {
   "cell_type": "markdown",
   "metadata": {},
   "source": [
    "Answer your own selection out of the following questions, or any other questions you might be able to think of.  Write the question down first in a markdown cell (use a # to make the question a nice header), THEN try to get an answer to it. A lot of these are remarkably similar, and some you'll need to do manual work for - the GDP ones, for example.\n",
    "\n",
    "If you are trying to figure out some other question that we didn't cover in class and it does not have to do with joining to another data set, we're happy to help you figure it out during lab!\n",
    "\n",
    "Take a peek at the billionaires notebook I uploaded into Slack, it should be helpful for the graphs (I added a few other styles and options, too). You'll probably also want to look at the \"sum()\" line I added.\n",
    "\n",
    "*    What country are most billionaires from? For the top ones, how many billionaires per billion people?\n",
    "*    Who are the top 10 richest billionaires?\n",
    "*    What's the average wealth of a billionaire? Male? Female?\n",
    "*    Who is the poorest billionaire? Who are the top 10 poorest billionaires?\n",
    "*    'What is relationship to company'? And what are the most common relationships?\n",
    "*    Most common source of wealth? Male vs. female?\n",
    "*    Given the richest person in a country, what % of the GDP is their wealth?\n",
    "*    Add up the wealth of all of the billionaires in a given country (or a few countries) and then compare it to the GDP of the country, or other billionaires, so like pit the US vs India\n",
    "*    What are the most common industries for billionaires to come from? What's the total amount of billionaire money from each industry?\n",
    "*    How many self made billionaires vs. others?\n",
    "*    How old are billionaires? How old are billionaires self made vs. non self made? or different industries?\n",
    "*    Who are the youngest billionaires? The oldest? Age distribution - maybe make a graph about it?\n",
    "*    Maybe just made a graph about how wealthy they are in general?\n",
    "*    Maybe plot their net worth vs age (scatterplot)\n",
    "*    Make a bar graph of the top 10 or 20 richest"
   ]
  },
  {
   "cell_type": "code",
   "execution_count": 2,
   "metadata": {
    "collapsed": false
   },
   "outputs": [],
   "source": [
    "import pandas as pd\n",
    "import matplotlib.pyplot as plt\n",
    "%matplotlib inline"
   ]
  },
  {
   "cell_type": "code",
   "execution_count": 3,
   "metadata": {
    "collapsed": false
   },
   "outputs": [],
   "source": [
    "df=pd.read_excel('Billionaires.xlsx')"
   ]
  },
  {
   "cell_type": "markdown",
   "metadata": {},
   "source": [
    "#### What country are most billionaires from? For the top ones, how many billionaires per billion people?"
   ]
  },
  {
   "cell_type": "code",
   "execution_count": 4,
   "metadata": {
    "collapsed": false
   },
   "outputs": [],
   "source": [
    "df=df[df['year']==2014]"
   ]
  },
  {
   "cell_type": "code",
   "execution_count": 5,
   "metadata": {
    "collapsed": false
   },
   "outputs": [
    {
     "data": {
      "text/plain": [
       "Index(['year', 'name', 'rank', 'citizenship', 'countrycode',\n",
       "       'networthusbillion', 'selfmade', 'typeofwealth', 'gender', 'age',\n",
       "       'industry', 'IndustryAggregates', 'region', 'north',\n",
       "       'politicalconnection', 'founder', 'generationofinheritance', 'sector',\n",
       "       'company', 'companytype', 'relationshiptocompany', 'foundingdate',\n",
       "       'gdpcurrentus', 'sourceofwealth', 'notes', 'notes2', 'source',\n",
       "       'source_2', 'source_3', 'source_4'],\n",
       "      dtype='object')"
      ]
     },
     "execution_count": 5,
     "metadata": {},
     "output_type": "execute_result"
    }
   ],
   "source": [
    "df.columns"
   ]
  },
  {
   "cell_type": "code",
   "execution_count": 6,
   "metadata": {
    "collapsed": false
   },
   "outputs": [],
   "source": [
    "countries=df.groupby('countrycode')['countrycode'].count().sort_values(ascending=False).head(10)\n",
    "countries_df=pd.DataFrame(countries, columns=['countrycode'])\n",
    "countries_df.rename(columns = {'countrycode':'count'}, inplace = True)"
   ]
  },
  {
   "cell_type": "code",
   "execution_count": 7,
   "metadata": {
    "collapsed": false
   },
   "outputs": [
    {
     "data": {
      "text/html": [
       "<div>\n",
       "<table border=\"1\" class=\"dataframe\">\n",
       "  <thead>\n",
       "    <tr style=\"text-align: right;\">\n",
       "      <th></th>\n",
       "      <th>count</th>\n",
       "    </tr>\n",
       "    <tr>\n",
       "      <th>countrycode</th>\n",
       "      <th></th>\n",
       "    </tr>\n",
       "  </thead>\n",
       "  <tbody>\n",
       "    <tr>\n",
       "      <th>USA</th>\n",
       "      <td>499</td>\n",
       "    </tr>\n",
       "    <tr>\n",
       "      <th>CHN</th>\n",
       "      <td>152</td>\n",
       "    </tr>\n",
       "    <tr>\n",
       "      <th>RUS</th>\n",
       "      <td>111</td>\n",
       "    </tr>\n",
       "    <tr>\n",
       "      <th>DEU</th>\n",
       "      <td>85</td>\n",
       "    </tr>\n",
       "    <tr>\n",
       "      <th>BRA</th>\n",
       "      <td>65</td>\n",
       "    </tr>\n",
       "    <tr>\n",
       "      <th>IND</th>\n",
       "      <td>56</td>\n",
       "    </tr>\n",
       "    <tr>\n",
       "      <th>GBR</th>\n",
       "      <td>47</td>\n",
       "    </tr>\n",
       "    <tr>\n",
       "      <th>HKG</th>\n",
       "      <td>45</td>\n",
       "    </tr>\n",
       "    <tr>\n",
       "      <th>FRA</th>\n",
       "      <td>43</td>\n",
       "    </tr>\n",
       "    <tr>\n",
       "      <th>ITA</th>\n",
       "      <td>35</td>\n",
       "    </tr>\n",
       "  </tbody>\n",
       "</table>\n",
       "</div>"
      ],
      "text/plain": [
       "             count\n",
       "countrycode       \n",
       "USA            499\n",
       "CHN            152\n",
       "RUS            111\n",
       "DEU             85\n",
       "BRA             65\n",
       "IND             56\n",
       "GBR             47\n",
       "HKG             45\n",
       "FRA             43\n",
       "ITA             35"
      ]
     },
     "execution_count": 7,
     "metadata": {},
     "output_type": "execute_result"
    }
   ],
   "source": [
    "countries_df"
   ]
  },
  {
   "cell_type": "code",
   "execution_count": 8,
   "metadata": {
    "collapsed": false
   },
   "outputs": [],
   "source": [
    "# this part im just looking up and manually adding\n",
    "# i could have probably learned census.govs terrible api to automate this but for 10 countrie this was faster\n",
    "countries_df['pop_thousands']=[323996, 1373541, 142355, 80723, 205824, 1266884, 64430, 7167, 66836, 62008]\n",
    "countries_df['billionaires_per_billion']=countries_df['count']/(countries_df['pop_thousands']/100000)"
   ]
  },
  {
   "cell_type": "code",
   "execution_count": 9,
   "metadata": {
    "collapsed": false
   },
   "outputs": [
    {
     "data": {
      "text/html": [
       "<div>\n",
       "<table border=\"1\" class=\"dataframe\">\n",
       "  <thead>\n",
       "    <tr style=\"text-align: right;\">\n",
       "      <th></th>\n",
       "      <th>count</th>\n",
       "      <th>pop_thousands</th>\n",
       "      <th>billionaires_per_billion</th>\n",
       "    </tr>\n",
       "    <tr>\n",
       "      <th>countrycode</th>\n",
       "      <th></th>\n",
       "      <th></th>\n",
       "      <th></th>\n",
       "    </tr>\n",
       "  </thead>\n",
       "  <tbody>\n",
       "    <tr>\n",
       "      <th>USA</th>\n",
       "      <td>499</td>\n",
       "      <td>323996</td>\n",
       "      <td>154.014247</td>\n",
       "    </tr>\n",
       "    <tr>\n",
       "      <th>CHN</th>\n",
       "      <td>152</td>\n",
       "      <td>1373541</td>\n",
       "      <td>11.066288</td>\n",
       "    </tr>\n",
       "    <tr>\n",
       "      <th>RUS</th>\n",
       "      <td>111</td>\n",
       "      <td>142355</td>\n",
       "      <td>77.974079</td>\n",
       "    </tr>\n",
       "    <tr>\n",
       "      <th>DEU</th>\n",
       "      <td>85</td>\n",
       "      <td>80723</td>\n",
       "      <td>105.298366</td>\n",
       "    </tr>\n",
       "    <tr>\n",
       "      <th>BRA</th>\n",
       "      <td>65</td>\n",
       "      <td>205824</td>\n",
       "      <td>31.580379</td>\n",
       "    </tr>\n",
       "    <tr>\n",
       "      <th>IND</th>\n",
       "      <td>56</td>\n",
       "      <td>1266884</td>\n",
       "      <td>4.420294</td>\n",
       "    </tr>\n",
       "    <tr>\n",
       "      <th>GBR</th>\n",
       "      <td>47</td>\n",
       "      <td>64430</td>\n",
       "      <td>72.947385</td>\n",
       "    </tr>\n",
       "    <tr>\n",
       "      <th>HKG</th>\n",
       "      <td>45</td>\n",
       "      <td>7167</td>\n",
       "      <td>627.877773</td>\n",
       "    </tr>\n",
       "    <tr>\n",
       "      <th>FRA</th>\n",
       "      <td>43</td>\n",
       "      <td>66836</td>\n",
       "      <td>64.336585</td>\n",
       "    </tr>\n",
       "    <tr>\n",
       "      <th>ITA</th>\n",
       "      <td>35</td>\n",
       "      <td>62008</td>\n",
       "      <td>56.444330</td>\n",
       "    </tr>\n",
       "  </tbody>\n",
       "</table>\n",
       "</div>"
      ],
      "text/plain": [
       "             count  pop_thousands  billionaires_per_billion\n",
       "countrycode                                                \n",
       "USA            499         323996                154.014247\n",
       "CHN            152        1373541                 11.066288\n",
       "RUS            111         142355                 77.974079\n",
       "DEU             85          80723                105.298366\n",
       "BRA             65         205824                 31.580379\n",
       "IND             56        1266884                  4.420294\n",
       "GBR             47          64430                 72.947385\n",
       "HKG             45           7167                627.877773\n",
       "FRA             43          66836                 64.336585\n",
       "ITA             35          62008                 56.444330"
      ]
     },
     "execution_count": 9,
     "metadata": {},
     "output_type": "execute_result"
    }
   ],
   "source": [
    "countries_df"
   ]
  },
  {
   "cell_type": "code",
   "execution_count": 10,
   "metadata": {
    "collapsed": false
   },
   "outputs": [
    {
     "data": {
      "text/plain": [
       "<matplotlib.axes._subplots.AxesSubplot at 0x7fa529bee668>"
      ]
     },
     "execution_count": 10,
     "metadata": {},
     "output_type": "execute_result"
    },
    {
     "data": {
      "image/png": "[encoded data removed]",
      "text/plain": [
       "<matplotlib.figure.Figure at 0x7fa529bfc128>"
      ]
     },
     "metadata": {},
     "output_type": "display_data"
    }
   ],
   "source": [
    "# this is my beautiful bargraph. hong kong clearly has it going on\n",
    "countries_df.sort_values(by='billionaires_per_billion', ascending=True).plot(kind='barh', y='billionaires_per_billion', title='Billionaires Per Billion Persons', legend=False)"
   ]
  },
  {
   "cell_type": "markdown",
   "metadata": {},
   "source": [
    "#### Who are the top 10 richest billionaires?"
   ]
  },
  {
   "cell_type": "code",
   "execution_count": 11,
   "metadata": {
    "collapsed": false
   },
   "outputs": [
    {
     "data": {
      "text/plain": [
       "Index(['year', 'name', 'rank', 'citizenship', 'countrycode',\n",
       "       'networthusbillion', 'selfmade', 'typeofwealth', 'gender', 'age',\n",
       "       'industry', 'IndustryAggregates', 'region', 'north',\n",
       "       'politicalconnection', 'founder', 'generationofinheritance', 'sector',\n",
       "       'company', 'companytype', 'relationshiptocompany', 'foundingdate',\n",
       "       'gdpcurrentus', 'sourceofwealth', 'notes', 'notes2', 'source',\n",
       "       'source_2', 'source_3', 'source_4'],\n",
       "      dtype='object')"
      ]
     },
     "execution_count": 11,
     "metadata": {},
     "output_type": "execute_result"
    }
   ],
   "source": [
    "df.columns"
   ]
  },
  {
   "cell_type": "code",
   "execution_count": 12,
   "metadata": {
    "collapsed": false
   },
   "outputs": [
    {
     "data": {
      "text/html": [
       "<div>\n",
       "<table border=\"1\" class=\"dataframe\">\n",
       "  <thead>\n",
       "    <tr style=\"text-align: right;\">\n",
       "      <th></th>\n",
       "      <th>name</th>\n",
       "      <th>networthusbillion</th>\n",
       "    </tr>\n",
       "  </thead>\n",
       "  <tbody>\n",
       "    <tr>\n",
       "      <th>284</th>\n",
       "      <td>Bill Gates</td>\n",
       "      <td>76.0</td>\n",
       "    </tr>\n",
       "    <tr>\n",
       "      <th>348</th>\n",
       "      <td>Carlos Slim Helu</td>\n",
       "      <td>72.0</td>\n",
       "    </tr>\n",
       "    <tr>\n",
       "      <th>124</th>\n",
       "      <td>Amancio Ortega</td>\n",
       "      <td>64.0</td>\n",
       "    </tr>\n",
       "    <tr>\n",
       "      <th>2491</th>\n",
       "      <td>Warren Buffett</td>\n",
       "      <td>58.2</td>\n",
       "    </tr>\n",
       "    <tr>\n",
       "      <th>1377</th>\n",
       "      <td>Larry Ellison</td>\n",
       "      <td>48.0</td>\n",
       "    </tr>\n",
       "    <tr>\n",
       "      <th>509</th>\n",
       "      <td>David Koch</td>\n",
       "      <td>40.0</td>\n",
       "    </tr>\n",
       "    <tr>\n",
       "      <th>381</th>\n",
       "      <td>Charles Koch</td>\n",
       "      <td>40.0</td>\n",
       "    </tr>\n",
       "    <tr>\n",
       "      <th>2185</th>\n",
       "      <td>Sheldon Adelson</td>\n",
       "      <td>38.0</td>\n",
       "    </tr>\n",
       "    <tr>\n",
       "      <th>429</th>\n",
       "      <td>Christy Walton</td>\n",
       "      <td>36.7</td>\n",
       "    </tr>\n",
       "    <tr>\n",
       "      <th>1128</th>\n",
       "      <td>Jim Walton</td>\n",
       "      <td>34.7</td>\n",
       "    </tr>\n",
       "  </tbody>\n",
       "</table>\n",
       "</div>"
      ],
      "text/plain": [
       "                  name  networthusbillion\n",
       "284         Bill Gates               76.0\n",
       "348   Carlos Slim Helu               72.0\n",
       "124     Amancio Ortega               64.0\n",
       "2491    Warren Buffett               58.2\n",
       "1377     Larry Ellison               48.0\n",
       "509         David Koch               40.0\n",
       "381       Charles Koch               40.0\n",
       "2185   Sheldon Adelson               38.0\n",
       "429     Christy Walton               36.7\n",
       "1128        Jim Walton               34.7"
      ]
     },
     "execution_count": 12,
     "metadata": {},
     "output_type": "execute_result"
    }
   ],
   "source": [
    "df[['name', 'networthusbillion']].sort_values(by='networthusbillion', ascending=False).head(10)"
   ]
  },
  {
   "cell_type": "markdown",
   "metadata": {
    "collapsed": true
   },
   "source": [
    "#### What's the average wealth of a billionaire? Male? Female?"
   ]
  },
  {
   "cell_type": "code",
   "execution_count": 13,
   "metadata": {
    "collapsed": false
   },
   "outputs": [
    {
     "data": {
      "text/plain": [
       "count    1653.000000\n",
       "mean        3.904658\n",
       "std         5.748520\n",
       "min         1.000000\n",
       "25%         1.400000\n",
       "50%         2.100000\n",
       "75%         3.700000\n",
       "max        76.000000\n",
       "Name: networthusbillion, dtype: float64"
      ]
     },
     "execution_count": 13,
     "metadata": {},
     "output_type": "execute_result"
    }
   ],
   "source": [
    "df['networthusbillion'].describe()"
   ]
  },
  {
   "cell_type": "code",
   "execution_count": 14,
   "metadata": {
    "collapsed": false
   },
   "outputs": [
    {
     "data": {
      "text/html": [
       "<div>\n",
       "<table border=\"1\" class=\"dataframe\">\n",
       "  <thead>\n",
       "    <tr style=\"text-align: right;\">\n",
       "      <th></th>\n",
       "      <th></th>\n",
       "      <th>networthusbillion</th>\n",
       "    </tr>\n",
       "    <tr>\n",
       "      <th>gender</th>\n",
       "      <th></th>\n",
       "      <th></th>\n",
       "    </tr>\n",
       "  </thead>\n",
       "  <tbody>\n",
       "    <tr>\n",
       "      <th rowspan=\"8\" valign=\"top\">female</th>\n",
       "      <th>count</th>\n",
       "      <td>180.000000</td>\n",
       "    </tr>\n",
       "    <tr>\n",
       "      <th>mean</th>\n",
       "      <td>3.920556</td>\n",
       "    </tr>\n",
       "    <tr>\n",
       "      <th>std</th>\n",
       "      <td>5.312604</td>\n",
       "    </tr>\n",
       "    <tr>\n",
       "      <th>min</th>\n",
       "      <td>1.000000</td>\n",
       "    </tr>\n",
       "    <tr>\n",
       "      <th>25%</th>\n",
       "      <td>1.400000</td>\n",
       "    </tr>\n",
       "    <tr>\n",
       "      <th>50%</th>\n",
       "      <td>2.300000</td>\n",
       "    </tr>\n",
       "    <tr>\n",
       "      <th>75%</th>\n",
       "      <td>3.700000</td>\n",
       "    </tr>\n",
       "    <tr>\n",
       "      <th>max</th>\n",
       "      <td>36.700000</td>\n",
       "    </tr>\n",
       "    <tr>\n",
       "      <th rowspan=\"8\" valign=\"top\">male</th>\n",
       "      <th>count</th>\n",
       "      <td>1473.000000</td>\n",
       "    </tr>\n",
       "    <tr>\n",
       "      <th>mean</th>\n",
       "      <td>3.902716</td>\n",
       "    </tr>\n",
       "    <tr>\n",
       "      <th>std</th>\n",
       "      <td>5.801227</td>\n",
       "    </tr>\n",
       "    <tr>\n",
       "      <th>min</th>\n",
       "      <td>1.000000</td>\n",
       "    </tr>\n",
       "    <tr>\n",
       "      <th>25%</th>\n",
       "      <td>1.400000</td>\n",
       "    </tr>\n",
       "    <tr>\n",
       "      <th>50%</th>\n",
       "      <td>2.100000</td>\n",
       "    </tr>\n",
       "    <tr>\n",
       "      <th>75%</th>\n",
       "      <td>3.700000</td>\n",
       "    </tr>\n",
       "    <tr>\n",
       "      <th>max</th>\n",
       "      <td>76.000000</td>\n",
       "    </tr>\n",
       "  </tbody>\n",
       "</table>\n",
       "</div>"
      ],
      "text/plain": [
       "              networthusbillion\n",
       "gender                         \n",
       "female count         180.000000\n",
       "       mean            3.920556\n",
       "       std             5.312604\n",
       "       min             1.000000\n",
       "       25%             1.400000\n",
       "       50%             2.300000\n",
       "       75%             3.700000\n",
       "       max            36.700000\n",
       "male   count        1473.000000\n",
       "       mean            3.902716\n",
       "       std             5.801227\n",
       "       min             1.000000\n",
       "       25%             1.400000\n",
       "       50%             2.100000\n",
       "       75%             3.700000\n",
       "       max            76.000000"
      ]
     },
     "execution_count": 14,
     "metadata": {},
     "output_type": "execute_result"
    }
   ],
   "source": [
    "df[['networthusbillion', 'gender']].groupby('gender').describe()"
   ]
  },
  {
   "cell_type": "markdown",
   "metadata": {},
   "source": [
    "#### Who is the poorest billionaire? Who are the top 10 poorest billionaires?"
   ]
  },
  {
   "cell_type": "code",
   "execution_count": 15,
   "metadata": {
    "collapsed": false,
    "scrolled": true
   },
   "outputs": [
    {
     "data": {
      "text/html": [
       "<div>\n",
       "<table border=\"1\" class=\"dataframe\">\n",
       "  <thead>\n",
       "    <tr style=\"text-align: right;\">\n",
       "      <th></th>\n",
       "      <th>name</th>\n",
       "      <th>networthusbillion</th>\n",
       "    </tr>\n",
       "  </thead>\n",
       "  <tbody>\n",
       "    <tr>\n",
       "      <th>234</th>\n",
       "      <td>B.R. Shetty</td>\n",
       "      <td>1.0</td>\n",
       "    </tr>\n",
       "    <tr>\n",
       "      <th>2092</th>\n",
       "      <td>Rostam Azizi</td>\n",
       "      <td>1.0</td>\n",
       "    </tr>\n",
       "    <tr>\n",
       "      <th>2401</th>\n",
       "      <td>Tory Burch</td>\n",
       "      <td>1.0</td>\n",
       "    </tr>\n",
       "    <tr>\n",
       "      <th>734</th>\n",
       "      <td>Fred Chang</td>\n",
       "      <td>1.0</td>\n",
       "    </tr>\n",
       "    <tr>\n",
       "      <th>171</th>\n",
       "      <td>Angela Bennett</td>\n",
       "      <td>1.0</td>\n",
       "    </tr>\n",
       "    <tr>\n",
       "      <th>748</th>\n",
       "      <td>Fu Kwan</td>\n",
       "      <td>1.0</td>\n",
       "    </tr>\n",
       "    <tr>\n",
       "      <th>2107</th>\n",
       "      <td>Ryan Kavanaugh</td>\n",
       "      <td>1.0</td>\n",
       "    </tr>\n",
       "    <tr>\n",
       "      <th>1783</th>\n",
       "      <td>O. Francis Biondi</td>\n",
       "      <td>1.0</td>\n",
       "    </tr>\n",
       "    <tr>\n",
       "      <th>1371</th>\n",
       "      <td>Lam Fong Ngo</td>\n",
       "      <td>1.0</td>\n",
       "    </tr>\n",
       "    <tr>\n",
       "      <th>702</th>\n",
       "      <td>Feng Hailiang</td>\n",
       "      <td>1.0</td>\n",
       "    </tr>\n",
       "  </tbody>\n",
       "</table>\n",
       "</div>"
      ],
      "text/plain": [
       "                   name  networthusbillion\n",
       "234         B.R. Shetty                1.0\n",
       "2092       Rostam Azizi                1.0\n",
       "2401         Tory Burch                1.0\n",
       "734          Fred Chang                1.0\n",
       "171      Angela Bennett                1.0\n",
       "748             Fu Kwan                1.0\n",
       "2107     Ryan Kavanaugh                1.0\n",
       "1783  O. Francis Biondi                1.0\n",
       "1371       Lam Fong Ngo                1.0\n",
       "702       Feng Hailiang                1.0"
      ]
     },
     "execution_count": 15,
     "metadata": {},
     "output_type": "execute_result"
    }
   ],
   "source": [
    "df[['name', 'networthusbillion']].sort_values(by='networthusbillion', ascending=True).head(10)"
   ]
  },
  {
   "cell_type": "code",
   "execution_count": 16,
   "metadata": {
    "collapsed": false,
    "scrolled": true
   },
   "outputs": [
    {
     "data": {
      "text/plain": [
       "56               Alberto Alcocer\n",
       "81                 Alexander Vik\n",
       "129                      An Kang\n",
       "145     Andrea Reimann-Ciardelli\n",
       "164              Andrew Gotianun\n",
       "171               Angela Bennett\n",
       "178                Anne Beaufour\n",
       "234                  B.R. Shetty\n",
       "261                  Bent Jensen\n",
       "296                  Boris Mints\n",
       "302                Brian Higgins\n",
       "320                C. James Koch\n",
       "343               Carlos Martins\n",
       "358             Chang Pyung-Soon\n",
       "424            Christopher Burch\n",
       "482                Dariusz Milek\n",
       "559                  Ding Shijia\n",
       "560                Ding Shizhong\n",
       "569               Dmitry Korzhev\n",
       "573              Dmitry Troitsky\n",
       "638               Elena Baturina\n",
       "660             Enrique Banuelos\n",
       "702                Feng Hailiang\n",
       "734                   Fred Chang\n",
       "748                      Fu Kwan\n",
       "843               Graham Kirkham\n",
       "886            Harindarpal Banga\n",
       "914               Henri Beaufour\n",
       "952         Horst Julius Pudwill\n",
       "976                  Huo Qinghua\n",
       "                  ...           \n",
       "1731                 Murat Vargi\n",
       "1755          Nerijus Numavicius\n",
       "1783           O. Francis Biondi\n",
       "1834                 Pavel Tykac\n",
       "1868              Philip Falcone\n",
       "1971               Richard Chang\n",
       "2024               Robert Ingham\n",
       "2092                Rostam Azizi\n",
       "2107              Ryan Kavanaugh\n",
       "2147                Sara Blakely\n",
       "2158                Seo Jung-Jin\n",
       "2165               Sergei Petrov\n",
       "2168            Sergei Tsikalyuk\n",
       "2174              Serhiy Tihipko\n",
       "2203                Shoji Uehara\n",
       "2247      Stefan von Holtzbrinck\n",
       "2316           T.S. Kalyanaraman\n",
       "2359               Thomas Bailey\n",
       "2365               Thomas Kaplan\n",
       "2401                  Tory Burch\n",
       "2443         Vivek Chaand Sehgal\n",
       "2472               Wang Jianfeng\n",
       "2479                 Wang Muqing\n",
       "2484                   Wang Yong\n",
       "2530       William Moncrief, Jr.\n",
       "2547                 Wu Chung-Yi\n",
       "2549                    Wu Xiong\n",
       "2561                   Yang Keng\n",
       "2591               Zdenek Bakala\n",
       "2607                 Zhu Wenchen\n",
       "Name: name, dtype: object"
      ]
     },
     "execution_count": 16,
     "metadata": {},
     "output_type": "execute_result"
    }
   ],
   "source": [
    "# actually there are a lot more than 10 tied for poorest billionaires. here is the whole list!\n",
    "df[df['networthusbillion']==1]['name']"
   ]
  },
  {
   "cell_type": "code",
   "execution_count": 17,
   "metadata": {
    "collapsed": false
   },
   "outputs": [
    {
     "data": {
      "text/plain": [
       "1.0     81\n",
       "1.1    102\n",
       "1.2     93\n",
       "1.3     88\n",
       "1.4     76\n",
       "1.5     56\n",
       "1.6     62\n",
       "1.7     46\n",
       "1.8     64\n",
       "1.9     57\n",
       "Name: networthusbillion, dtype: int64"
      ]
     },
     "execution_count": 17,
     "metadata": {},
     "output_type": "execute_result"
    }
   ],
   "source": [
    "# 81 tied for poorest. 102 tied for second place.\n",
    "df['networthusbillion'].value_counts().sort_index().head(10)"
   ]
  },
  {
   "cell_type": "code",
   "execution_count": 18,
   "metadata": {
    "collapsed": false
   },
   "outputs": [
    {
     "data": {
      "text/plain": [
       "Index(['year', 'name', 'rank', 'citizenship', 'countrycode',\n",
       "       'networthusbillion', 'selfmade', 'typeofwealth', 'gender', 'age',\n",
       "       'industry', 'IndustryAggregates', 'region', 'north',\n",
       "       'politicalconnection', 'founder', 'generationofinheritance', 'sector',\n",
       "       'company', 'companytype', 'relationshiptocompany', 'foundingdate',\n",
       "       'gdpcurrentus', 'sourceofwealth', 'notes', 'notes2', 'source',\n",
       "       'source_2', 'source_3', 'source_4'],\n",
       "      dtype='object')"
      ]
     },
     "execution_count": 18,
     "metadata": {},
     "output_type": "execute_result"
    }
   ],
   "source": [
    "df.columns"
   ]
  },
  {
   "cell_type": "markdown",
   "metadata": {},
   "source": [
    "#### 'What is relationship to company'? And what are the most common relationships?"
   ]
  },
  {
   "cell_type": "code",
   "execution_count": 19,
   "metadata": {
    "collapsed": false
   },
   "outputs": [
    {
     "data": {
      "text/plain": [
       "founder                                 818\n",
       "relation                                515\n",
       "owner                                    79\n",
       "chairman                                 64\n",
       "investor                                 30\n",
       "Chairman and Chief Executive Officer     15\n",
       "president                                 8\n",
       "Chairman                                  8\n",
       "CEO                                       8\n",
       "ceo                                       8\n",
       "Name: relationshiptocompany, dtype: int64"
      ]
     },
     "execution_count": 19,
     "metadata": {},
     "output_type": "execute_result"
    }
   ],
   "source": [
    "# relationship to company looks like job title for the most part. looks like you want to get in \n",
    "# on the ground floor to make those B's\n",
    "df['relationshiptocompany'].value_counts().head(10)"
   ]
  },
  {
   "cell_type": "markdown",
   "metadata": {},
   "source": [
    "#### Most common source of wealth? Male vs. female?"
   ]
  },
  {
   "cell_type": "code",
   "execution_count": 20,
   "metadata": {
    "collapsed": false
   },
   "outputs": [
    {
     "data": {
      "text/plain": [
       "real estate        107\n",
       "diversified         69\n",
       "retail              63\n",
       "investments         60\n",
       "pharmaceuticals     42\n",
       "hedge funds         34\n",
       "banking             33\n",
       "construction        32\n",
       "media               24\n",
       "consumer goods      19\n",
       "Name: sourceofwealth, dtype: int64"
      ]
     },
     "execution_count": 20,
     "metadata": {},
     "output_type": "execute_result"
    }
   ],
   "source": [
    "df['sourceofwealth'].value_counts().head(10)"
   ]
  },
  {
   "cell_type": "code",
   "execution_count": 21,
   "metadata": {
    "collapsed": false
   },
   "outputs": [
    {
     "data": {
      "text/html": [
       "<div>\n",
       "<table border=\"1\" class=\"dataframe\">\n",
       "  <thead>\n",
       "    <tr style=\"text-align: right;\">\n",
       "      <th></th>\n",
       "      <th></th>\n",
       "      <th>sourceofwealth</th>\n",
       "    </tr>\n",
       "    <tr>\n",
       "      <th>gender</th>\n",
       "      <th></th>\n",
       "      <th></th>\n",
       "    </tr>\n",
       "  </thead>\n",
       "  <tbody>\n",
       "    <tr>\n",
       "      <th rowspan=\"4\" valign=\"top\">female</th>\n",
       "      <th>count</th>\n",
       "      <td>172</td>\n",
       "    </tr>\n",
       "    <tr>\n",
       "      <th>unique</th>\n",
       "      <td>100</td>\n",
       "    </tr>\n",
       "    <tr>\n",
       "      <th>top</th>\n",
       "      <td>diversified</td>\n",
       "    </tr>\n",
       "    <tr>\n",
       "      <th>freq</th>\n",
       "      <td>9</td>\n",
       "    </tr>\n",
       "    <tr>\n",
       "      <th rowspan=\"4\" valign=\"top\">male</th>\n",
       "      <th>count</th>\n",
       "      <td>1464</td>\n",
       "    </tr>\n",
       "    <tr>\n",
       "      <th>unique</th>\n",
       "      <td>578</td>\n",
       "    </tr>\n",
       "    <tr>\n",
       "      <th>top</th>\n",
       "      <td>real estate</td>\n",
       "    </tr>\n",
       "    <tr>\n",
       "      <th>freq</th>\n",
       "      <td>100</td>\n",
       "    </tr>\n",
       "  </tbody>\n",
       "</table>\n",
       "</div>"
      ],
      "text/plain": [
       "              sourceofwealth\n",
       "gender                      \n",
       "female count             172\n",
       "       unique            100\n",
       "       top       diversified\n",
       "       freq                9\n",
       "male   count            1464\n",
       "       unique            578\n",
       "       top       real estate\n",
       "       freq              100"
      ]
     },
     "execution_count": 21,
     "metadata": {},
     "output_type": "execute_result"
    }
   ],
   "source": [
    "df[['gender', 'sourceofwealth']].groupby('gender').describe()"
   ]
  },
  {
   "cell_type": "markdown",
   "metadata": {},
   "source": [
    "#### Given the richest person in a country, what % of the GDP is their wealth?"
   ]
  },
  {
   "cell_type": "code",
   "execution_count": 22,
   "metadata": {
    "collapsed": false,
    "scrolled": true
   },
   "outputs": [
    {
     "data": {
      "text/html": [
       "<div>\n",
       "<table border=\"1\" class=\"dataframe\">\n",
       "  <thead>\n",
       "    <tr style=\"text-align: right;\">\n",
       "      <th></th>\n",
       "      <th>Country</th>\n",
       "      <th>GDP (millions USD)</th>\n",
       "    </tr>\n",
       "  </thead>\n",
       "  <tbody>\n",
       "    <tr>\n",
       "      <th>0</th>\n",
       "      <td>United States</td>\n",
       "      <td>17946996</td>\n",
       "    </tr>\n",
       "    <tr>\n",
       "      <th>1</th>\n",
       "      <td>China</td>\n",
       "      <td>10866444</td>\n",
       "    </tr>\n",
       "    <tr>\n",
       "      <th>2</th>\n",
       "      <td>Japan</td>\n",
       "      <td>4123258</td>\n",
       "    </tr>\n",
       "    <tr>\n",
       "      <th>3</th>\n",
       "      <td>Germany</td>\n",
       "      <td>3355772</td>\n",
       "    </tr>\n",
       "    <tr>\n",
       "      <th>4</th>\n",
       "      <td>United Kingdom</td>\n",
       "      <td>2848755</td>\n",
       "    </tr>\n",
       "    <tr>\n",
       "      <th>5</th>\n",
       "      <td>France</td>\n",
       "      <td>2421682</td>\n",
       "    </tr>\n",
       "    <tr>\n",
       "      <th>6</th>\n",
       "      <td>India</td>\n",
       "      <td>2073543</td>\n",
       "    </tr>\n",
       "    <tr>\n",
       "      <th>7</th>\n",
       "      <td>Italy</td>\n",
       "      <td>1814763</td>\n",
       "    </tr>\n",
       "    <tr>\n",
       "      <th>8</th>\n",
       "      <td>Brazil</td>\n",
       "      <td>1774725</td>\n",
       "    </tr>\n",
       "    <tr>\n",
       "      <th>9</th>\n",
       "      <td>Canada</td>\n",
       "      <td>1550537</td>\n",
       "    </tr>\n",
       "    <tr>\n",
       "      <th>10</th>\n",
       "      <td>South Korea</td>\n",
       "      <td>1377873</td>\n",
       "    </tr>\n",
       "    <tr>\n",
       "      <th>11</th>\n",
       "      <td>Australia</td>\n",
       "      <td>1339539</td>\n",
       "    </tr>\n",
       "    <tr>\n",
       "      <th>12</th>\n",
       "      <td>Russia</td>\n",
       "      <td>1326015</td>\n",
       "    </tr>\n",
       "    <tr>\n",
       "      <th>13</th>\n",
       "      <td>Spain</td>\n",
       "      <td>1199057</td>\n",
       "    </tr>\n",
       "    <tr>\n",
       "      <th>14</th>\n",
       "      <td>Mexico</td>\n",
       "      <td>1144331</td>\n",
       "    </tr>\n",
       "    <tr>\n",
       "      <th>15</th>\n",
       "      <td>Indonesia</td>\n",
       "      <td>861934</td>\n",
       "    </tr>\n",
       "    <tr>\n",
       "      <th>16</th>\n",
       "      <td>Netherlands</td>\n",
       "      <td>752547</td>\n",
       "    </tr>\n",
       "    <tr>\n",
       "      <th>17</th>\n",
       "      <td>Turkey</td>\n",
       "      <td>718221</td>\n",
       "    </tr>\n",
       "    <tr>\n",
       "      <th>18</th>\n",
       "      <td>Switzerland</td>\n",
       "      <td>664738</td>\n",
       "    </tr>\n",
       "    <tr>\n",
       "      <th>19</th>\n",
       "      <td>Saudi Arabia</td>\n",
       "      <td>646002</td>\n",
       "    </tr>\n",
       "    <tr>\n",
       "      <th>20</th>\n",
       "      <td>Argentina</td>\n",
       "      <td>548055</td>\n",
       "    </tr>\n",
       "    <tr>\n",
       "      <th>21</th>\n",
       "      <td>Taiwan</td>\n",
       "      <td>523581</td>\n",
       "    </tr>\n",
       "    <tr>\n",
       "      <th>22</th>\n",
       "      <td>Sweden</td>\n",
       "      <td>492618</td>\n",
       "    </tr>\n",
       "    <tr>\n",
       "      <th>23</th>\n",
       "      <td>Nigeria</td>\n",
       "      <td>481066</td>\n",
       "    </tr>\n",
       "    <tr>\n",
       "      <th>24</th>\n",
       "      <td>Poland</td>\n",
       "      <td>474783</td>\n",
       "    </tr>\n",
       "    <tr>\n",
       "      <th>25</th>\n",
       "      <td>Belgium</td>\n",
       "      <td>454039</td>\n",
       "    </tr>\n",
       "    <tr>\n",
       "      <th>26</th>\n",
       "      <td>Iran</td>\n",
       "      <td>425326</td>\n",
       "    </tr>\n",
       "    <tr>\n",
       "      <th>27</th>\n",
       "      <td>Thailand</td>\n",
       "      <td>395282</td>\n",
       "    </tr>\n",
       "    <tr>\n",
       "      <th>28</th>\n",
       "      <td>Norway</td>\n",
       "      <td>388315</td>\n",
       "    </tr>\n",
       "    <tr>\n",
       "      <th>29</th>\n",
       "      <td>Austria</td>\n",
       "      <td>374056</td>\n",
       "    </tr>\n",
       "    <tr>\n",
       "      <th>...</th>\n",
       "      <td>...</td>\n",
       "      <td>...</td>\n",
       "    </tr>\n",
       "    <tr>\n",
       "      <th>189</th>\n",
       "      <td>Comoros</td>\n",
       "      <td>624</td>\n",
       "    </tr>\n",
       "    <tr>\n",
       "      <th>190</th>\n",
       "      <td>Dominica</td>\n",
       "      <td>538</td>\n",
       "    </tr>\n",
       "    <tr>\n",
       "      <th>191</th>\n",
       "      <td>Tonga</td>\n",
       "      <td>434</td>\n",
       "    </tr>\n",
       "    <tr>\n",
       "      <th>192</th>\n",
       "      <td>São Tomé and Principe</td>\n",
       "      <td>337</td>\n",
       "    </tr>\n",
       "    <tr>\n",
       "      <th>193</th>\n",
       "      <td>Micronesia, Fed. Sts.</td>\n",
       "      <td>318</td>\n",
       "    </tr>\n",
       "    <tr>\n",
       "      <th>194</th>\n",
       "      <td>Palau</td>\n",
       "      <td>287</td>\n",
       "    </tr>\n",
       "    <tr>\n",
       "      <th>195</th>\n",
       "      <td>Marshall Islands</td>\n",
       "      <td>187</td>\n",
       "    </tr>\n",
       "    <tr>\n",
       "      <th>196</th>\n",
       "      <td>Kiribati</td>\n",
       "      <td>145</td>\n",
       "    </tr>\n",
       "    <tr>\n",
       "      <th>197</th>\n",
       "      <td>Tuvalu</td>\n",
       "      <td>38</td>\n",
       "    </tr>\n",
       "    <tr>\n",
       "      <th>198</th>\n",
       "      <td>American Samoa</td>\n",
       "      <td>0</td>\n",
       "    </tr>\n",
       "    <tr>\n",
       "      <th>199</th>\n",
       "      <td>Aruba</td>\n",
       "      <td>0</td>\n",
       "    </tr>\n",
       "    <tr>\n",
       "      <th>200</th>\n",
       "      <td>British Virgin Islands</td>\n",
       "      <td>0</td>\n",
       "    </tr>\n",
       "    <tr>\n",
       "      <th>201</th>\n",
       "      <td>Cayman Islands</td>\n",
       "      <td>0</td>\n",
       "    </tr>\n",
       "    <tr>\n",
       "      <th>202</th>\n",
       "      <td>Channel Islands</td>\n",
       "      <td>0</td>\n",
       "    </tr>\n",
       "    <tr>\n",
       "      <th>203</th>\n",
       "      <td>Curaçao</td>\n",
       "      <td>0</td>\n",
       "    </tr>\n",
       "    <tr>\n",
       "      <th>204</th>\n",
       "      <td>Eritrea</td>\n",
       "      <td>0</td>\n",
       "    </tr>\n",
       "    <tr>\n",
       "      <th>205</th>\n",
       "      <td>French Polynesia</td>\n",
       "      <td>0</td>\n",
       "    </tr>\n",
       "    <tr>\n",
       "      <th>206</th>\n",
       "      <td>Gibraltar</td>\n",
       "      <td>0</td>\n",
       "    </tr>\n",
       "    <tr>\n",
       "      <th>207</th>\n",
       "      <td>Guam</td>\n",
       "      <td>0</td>\n",
       "    </tr>\n",
       "    <tr>\n",
       "      <th>208</th>\n",
       "      <td>Korea, Dem. People's Rep.</td>\n",
       "      <td>0</td>\n",
       "    </tr>\n",
       "    <tr>\n",
       "      <th>209</th>\n",
       "      <td>Liechtenstein</td>\n",
       "      <td>0</td>\n",
       "    </tr>\n",
       "    <tr>\n",
       "      <th>210</th>\n",
       "      <td>Nauru</td>\n",
       "      <td>0</td>\n",
       "    </tr>\n",
       "    <tr>\n",
       "      <th>211</th>\n",
       "      <td>New Caledonia</td>\n",
       "      <td>0</td>\n",
       "    </tr>\n",
       "    <tr>\n",
       "      <th>212</th>\n",
       "      <td>Northern Mariana Islands</td>\n",
       "      <td>0</td>\n",
       "    </tr>\n",
       "    <tr>\n",
       "      <th>213</th>\n",
       "      <td>San Marino</td>\n",
       "      <td>0</td>\n",
       "    </tr>\n",
       "    <tr>\n",
       "      <th>214</th>\n",
       "      <td>Sint Maarten (Dutch part)</td>\n",
       "      <td>0</td>\n",
       "    </tr>\n",
       "    <tr>\n",
       "      <th>215</th>\n",
       "      <td>St. Martin (French part)</td>\n",
       "      <td>0</td>\n",
       "    </tr>\n",
       "    <tr>\n",
       "      <th>216</th>\n",
       "      <td>Syrian Arab Republic</td>\n",
       "      <td>0</td>\n",
       "    </tr>\n",
       "    <tr>\n",
       "      <th>217</th>\n",
       "      <td>Turks and Caicos Islands</td>\n",
       "      <td>0</td>\n",
       "    </tr>\n",
       "    <tr>\n",
       "      <th>218</th>\n",
       "      <td>Virgin Islands (U.S.)</td>\n",
       "      <td>0</td>\n",
       "    </tr>\n",
       "  </tbody>\n",
       "</table>\n",
       "<p>219 rows × 2 columns</p>\n",
       "</div>"
      ],
      "text/plain": [
       "                       Country  GDP (millions USD)\n",
       "0                United States            17946996\n",
       "1                        China            10866444\n",
       "2                        Japan             4123258\n",
       "3                      Germany             3355772\n",
       "4               United Kingdom             2848755\n",
       "5                       France             2421682\n",
       "6                        India             2073543\n",
       "7                        Italy             1814763\n",
       "8                       Brazil             1774725\n",
       "9                       Canada             1550537\n",
       "10                 South Korea             1377873\n",
       "11                   Australia             1339539\n",
       "12                      Russia             1326015\n",
       "13                       Spain             1199057\n",
       "14                      Mexico             1144331\n",
       "15                   Indonesia              861934\n",
       "16                 Netherlands              752547\n",
       "17                      Turkey              718221\n",
       "18                 Switzerland              664738\n",
       "19                Saudi Arabia              646002\n",
       "20                   Argentina              548055\n",
       "21                      Taiwan              523581\n",
       "22                      Sweden              492618\n",
       "23                     Nigeria              481066\n",
       "24                      Poland              474783\n",
       "25                     Belgium              454039\n",
       "26                        Iran              425326\n",
       "27                    Thailand              395282\n",
       "28                      Norway              388315\n",
       "29                     Austria              374056\n",
       "..                         ...                 ...\n",
       "189                    Comoros                 624\n",
       "190                   Dominica                 538\n",
       "191                      Tonga                 434\n",
       "192      São Tomé and Principe                 337\n",
       "193      Micronesia, Fed. Sts.                 318\n",
       "194                      Palau                 287\n",
       "195           Marshall Islands                 187\n",
       "196                   Kiribati                 145\n",
       "197                     Tuvalu                  38\n",
       "198             American Samoa                   0\n",
       "199                      Aruba                   0\n",
       "200     British Virgin Islands                   0\n",
       "201             Cayman Islands                   0\n",
       "202            Channel Islands                   0\n",
       "203                    Curaçao                   0\n",
       "204                    Eritrea                   0\n",
       "205           French Polynesia                   0\n",
       "206                  Gibraltar                   0\n",
       "207                       Guam                   0\n",
       "208  Korea, Dem. People's Rep.                   0\n",
       "209              Liechtenstein                   0\n",
       "210                      Nauru                   0\n",
       "211              New Caledonia                   0\n",
       "212   Northern Mariana Islands                   0\n",
       "213                 San Marino                   0\n",
       "214  Sint Maarten (Dutch part)                   0\n",
       "215   St. Martin (French part)                   0\n",
       "216       Syrian Arab Republic                   0\n",
       "217   Turks and Caicos Islands                   0\n",
       "218      Virgin Islands (U.S.)                   0\n",
       "\n",
       "[219 rows x 2 columns]"
      ]
     },
     "execution_count": 22,
     "metadata": {},
     "output_type": "execute_result"
    }
   ],
   "source": [
    "# this time i decided not to cheat and actually found and converted a gdp to country chart into a csv. here it is!\n",
    "gdp=pd.read_csv('GDP.csv')\n",
    "gdp"
   ]
  },
  {
   "cell_type": "code",
   "execution_count": 23,
   "metadata": {
    "collapsed": false,
    "scrolled": true
   },
   "outputs": [],
   "source": [
    "networth=df[['name', 'citizenship', 'networthusbillion']]\n",
    "networth=networth.rename(columns = {'citizenship':'Country'})"
   ]
  },
  {
   "cell_type": "code",
   "execution_count": 24,
   "metadata": {
    "collapsed": false,
    "scrolled": true
   },
   "outputs": [],
   "source": [
    "networth_gdp=pd.merge(networth, gdp, on='Country', how='left')"
   ]
  },
  {
   "cell_type": "code",
   "execution_count": 25,
   "metadata": {
    "collapsed": true
   },
   "outputs": [],
   "source": [
    "networth_gdp['percent_GDP']=(networth_gdp['networthusbillion']*1000000000)/(networth_gdp['GDP (millions USD)']*1000000)"
   ]
  },
  {
   "cell_type": "code",
   "execution_count": 26,
   "metadata": {
    "collapsed": false,
    "scrolled": true
   },
   "outputs": [
    {
     "data": {
      "text/html": [
       "<div>\n",
       "<table border=\"1\" class=\"dataframe\">\n",
       "  <thead>\n",
       "    <tr style=\"text-align: right;\">\n",
       "      <th></th>\n",
       "      <th>name</th>\n",
       "      <th>Country</th>\n",
       "      <th>networthusbillion</th>\n",
       "      <th>GDP (millions USD)</th>\n",
       "      <th>percent_GDP</th>\n",
       "    </tr>\n",
       "  </thead>\n",
       "  <tbody>\n",
       "    <tr>\n",
       "      <th>659</th>\n",
       "      <td>Jacky Xu</td>\n",
       "      <td>St. Kitts and Nevis</td>\n",
       "      <td>1.2</td>\n",
       "      <td>922</td>\n",
       "      <td>1.301518</td>\n",
       "    </tr>\n",
       "    <tr>\n",
       "      <th>1109</th>\n",
       "      <td>Nathan Kirsh</td>\n",
       "      <td>Swaziland</td>\n",
       "      <td>3.7</td>\n",
       "      <td>4060</td>\n",
       "      <td>0.911330</td>\n",
       "    </tr>\n",
       "    <tr>\n",
       "      <th>1407</th>\n",
       "      <td>Stephen Lansdown</td>\n",
       "      <td>Guernsey</td>\n",
       "      <td>2.4</td>\n",
       "      <td>2742</td>\n",
       "      <td>0.875274</td>\n",
       "    </tr>\n",
       "    <tr>\n",
       "      <th>751</th>\n",
       "      <td>John Fredriksen</td>\n",
       "      <td>Cyprus</td>\n",
       "      <td>13.6</td>\n",
       "      <td>19320</td>\n",
       "      <td>0.703934</td>\n",
       "    </tr>\n",
       "    <tr>\n",
       "      <th>182</th>\n",
       "      <td>Bidzina Ivanishvili</td>\n",
       "      <td>Georgia</td>\n",
       "      <td>5.2</td>\n",
       "      <td>13965</td>\n",
       "      <td>0.372359</td>\n",
       "    </tr>\n",
       "    <tr>\n",
       "      <th>341</th>\n",
       "      <td>David Nahmad</td>\n",
       "      <td>Monaco</td>\n",
       "      <td>1.8</td>\n",
       "      <td>6063</td>\n",
       "      <td>0.296883</td>\n",
       "    </tr>\n",
       "    <tr>\n",
       "      <th>447</th>\n",
       "      <td>Ezra Nahmad</td>\n",
       "      <td>Monaco</td>\n",
       "      <td>1.5</td>\n",
       "      <td>6063</td>\n",
       "      <td>0.247402</td>\n",
       "    </tr>\n",
       "    <tr>\n",
       "      <th>919</th>\n",
       "      <td>Lily Safra</td>\n",
       "      <td>Monaco</td>\n",
       "      <td>1.3</td>\n",
       "      <td>6063</td>\n",
       "      <td>0.214415</td>\n",
       "    </tr>\n",
       "    <tr>\n",
       "      <th>1402</th>\n",
       "      <td>Stelios Haji-Ioannou</td>\n",
       "      <td>Cyprus</td>\n",
       "      <td>3.1</td>\n",
       "      <td>19320</td>\n",
       "      <td>0.160455</td>\n",
       "    </tr>\n",
       "    <tr>\n",
       "      <th>1265</th>\n",
       "      <td>Rinat Akhmetov</td>\n",
       "      <td>Ukraine</td>\n",
       "      <td>12.5</td>\n",
       "      <td>90615</td>\n",
       "      <td>0.137946</td>\n",
       "    </tr>\n",
       "    <tr>\n",
       "      <th>906</th>\n",
       "      <td>Li Ka-shing</td>\n",
       "      <td>Hong Kong</td>\n",
       "      <td>31.0</td>\n",
       "      <td>309929</td>\n",
       "      <td>0.100023</td>\n",
       "    </tr>\n",
       "    <tr>\n",
       "      <th>1204</th>\n",
       "      <td>Polys Haji-Ioannou</td>\n",
       "      <td>Cyprus</td>\n",
       "      <td>1.8</td>\n",
       "      <td>19320</td>\n",
       "      <td>0.093168</td>\n",
       "    </tr>\n",
       "    <tr>\n",
       "      <th>954</th>\n",
       "      <td>Lui Che Woo</td>\n",
       "      <td>Hong Kong</td>\n",
       "      <td>22.0</td>\n",
       "      <td>309929</td>\n",
       "      <td>0.070984</td>\n",
       "    </tr>\n",
       "    <tr>\n",
       "      <th>1395</th>\n",
       "      <td>Stefan Persson</td>\n",
       "      <td>Sweden</td>\n",
       "      <td>34.4</td>\n",
       "      <td>492618</td>\n",
       "      <td>0.069831</td>\n",
       "    </tr>\n",
       "    <tr>\n",
       "      <th>1103</th>\n",
       "      <td>Najib Mikati</td>\n",
       "      <td>Lebanon</td>\n",
       "      <td>3.1</td>\n",
       "      <td>47103</td>\n",
       "      <td>0.065813</td>\n",
       "    </tr>\n",
       "    <tr>\n",
       "      <th>1448</th>\n",
       "      <td>Taha Mikati</td>\n",
       "      <td>Lebanon</td>\n",
       "      <td>3.1</td>\n",
       "      <td>47103</td>\n",
       "      <td>0.065813</td>\n",
       "    </tr>\n",
       "    <tr>\n",
       "      <th>642</th>\n",
       "      <td>Iris Fontbona</td>\n",
       "      <td>Chile</td>\n",
       "      <td>15.5</td>\n",
       "      <td>240216</td>\n",
       "      <td>0.064525</td>\n",
       "    </tr>\n",
       "    <tr>\n",
       "      <th>883</th>\n",
       "      <td>Lee Shau Kee</td>\n",
       "      <td>Hong Kong</td>\n",
       "      <td>19.6</td>\n",
       "      <td>309929</td>\n",
       "      <td>0.063240</td>\n",
       "    </tr>\n",
       "    <tr>\n",
       "      <th>226</th>\n",
       "      <td>Carlos Slim Helu</td>\n",
       "      <td>Mexico</td>\n",
       "      <td>72.0</td>\n",
       "      <td>1144331</td>\n",
       "      <td>0.062919</td>\n",
       "    </tr>\n",
       "    <tr>\n",
       "      <th>1422</th>\n",
       "      <td>Suat Gunsel</td>\n",
       "      <td>Cyprus</td>\n",
       "      <td>1.2</td>\n",
       "      <td>19320</td>\n",
       "      <td>0.062112</td>\n",
       "    </tr>\n",
       "  </tbody>\n",
       "</table>\n",
       "</div>"
      ],
      "text/plain": [
       "                      name              Country  networthusbillion  \\\n",
       "659               Jacky Xu  St. Kitts and Nevis                1.2   \n",
       "1109          Nathan Kirsh            Swaziland                3.7   \n",
       "1407      Stephen Lansdown             Guernsey                2.4   \n",
       "751        John Fredriksen               Cyprus               13.6   \n",
       "182    Bidzina Ivanishvili              Georgia                5.2   \n",
       "341           David Nahmad               Monaco                1.8   \n",
       "447            Ezra Nahmad               Monaco                1.5   \n",
       "919             Lily Safra               Monaco                1.3   \n",
       "1402  Stelios Haji-Ioannou               Cyprus                3.1   \n",
       "1265        Rinat Akhmetov              Ukraine               12.5   \n",
       "906            Li Ka-shing            Hong Kong               31.0   \n",
       "1204    Polys Haji-Ioannou               Cyprus                1.8   \n",
       "954            Lui Che Woo            Hong Kong               22.0   \n",
       "1395        Stefan Persson               Sweden               34.4   \n",
       "1103          Najib Mikati              Lebanon                3.1   \n",
       "1448           Taha Mikati              Lebanon                3.1   \n",
       "642          Iris Fontbona                Chile               15.5   \n",
       "883           Lee Shau Kee            Hong Kong               19.6   \n",
       "226       Carlos Slim Helu               Mexico               72.0   \n",
       "1422           Suat Gunsel               Cyprus                1.2   \n",
       "\n",
       "      GDP (millions USD)  percent_GDP  \n",
       "659                  922     1.301518  \n",
       "1109                4060     0.911330  \n",
       "1407                2742     0.875274  \n",
       "751                19320     0.703934  \n",
       "182                13965     0.372359  \n",
       "341                 6063     0.296883  \n",
       "447                 6063     0.247402  \n",
       "919                 6063     0.214415  \n",
       "1402               19320     0.160455  \n",
       "1265               90615     0.137946  \n",
       "906               309929     0.100023  \n",
       "1204               19320     0.093168  \n",
       "954               309929     0.070984  \n",
       "1395              492618     0.069831  \n",
       "1103               47103     0.065813  \n",
       "1448               47103     0.065813  \n",
       "642               240216     0.064525  \n",
       "883               309929     0.063240  \n",
       "226              1144331     0.062919  \n",
       "1422               19320     0.062112  "
      ]
     },
     "execution_count": 26,
     "metadata": {},
     "output_type": "execute_result"
    }
   ],
   "source": [
    "# this doenst EXACTLY answer the question, but I think its more interesting anyway. top 20 people in the world by\n",
    "# personal wealth as a percent of their own countrys gdp\n",
    "networth_gdp.sort_values(by='percent_GDP', ascending=False).head(20)"
   ]
  },
  {
   "cell_type": "markdown",
   "metadata": {},
   "source": [
    "#### Add up the wealth of all of the billionaires in a given country (or a few countries) and then compare it to the GDP of the country, or other billionaires, so like pit the US vs India"
   ]
  },
  {
   "cell_type": "code",
   "execution_count": 27,
   "metadata": {
    "collapsed": false
   },
   "outputs": [],
   "source": [
    "total_worth=pd.DataFrame(networth_gdp.groupby('Country')['networthusbillion'].sum())"
   ]
  },
  {
   "cell_type": "code",
   "execution_count": 28,
   "metadata": {
    "collapsed": false,
    "scrolled": false
   },
   "outputs": [],
   "source": [
    "total_worth['total_worth']=total_worth['networthusbillion']*1000000000"
   ]
  },
  {
   "cell_type": "code",
   "execution_count": 29,
   "metadata": {
    "collapsed": false
   },
   "outputs": [
    {
     "data": {
      "text/plain": [
       "Index(['Algeria', 'Angola', 'Argentina', 'Australia', 'Austria', 'Belgium',\n",
       "       'Brazil', 'Canada', 'Chile', 'China', 'Colombia', 'Cyprus',\n",
       "       'Czech Republic', 'Denmark', 'Egypt', 'Finland', 'France', 'Georgia',\n",
       "       'Germany', 'Greece', 'Guernsey', 'Hong Kong', 'India', 'Indonesia',\n",
       "       'Ireland', 'Israel', 'Italy', 'Japan', 'Kazakhstan', 'Kuwait',\n",
       "       'Lebanon', 'Lithuania', 'Macau', 'Malaysia', 'Mexico', 'Monaco',\n",
       "       'Morocco', 'Nepal', 'Netherlands', 'New Zealand', 'Nigeria', 'Norway',\n",
       "       'Oman', 'Peru', 'Philippines', 'Poland', 'Portugal', 'Romania',\n",
       "       'Russia', 'Saudi Arabia', 'Singapore', 'South Africa', 'South Korea',\n",
       "       'Spain', 'St. Kitts and Nevis', 'Swaziland', 'Sweden', 'Switzerland',\n",
       "       'Taiwan', 'Tanzania', 'Thailand', 'Turkey', 'Uganda', 'Ukraine',\n",
       "       'United Arab Emirates', 'United Kingdom', 'United States', 'Venezuela',\n",
       "       'Vietnam'],\n",
       "      dtype='object', name='Country')"
      ]
     },
     "execution_count": 29,
     "metadata": {},
     "output_type": "execute_result"
    }
   ],
   "source": [
    "total_worth.index"
   ]
  },
  {
   "cell_type": "code",
   "execution_count": 30,
   "metadata": {
    "collapsed": false
   },
   "outputs": [],
   "source": [
    "total_worth['Country']=total_worth.index"
   ]
  },
  {
   "cell_type": "code",
   "execution_count": 31,
   "metadata": {
    "collapsed": false
   },
   "outputs": [],
   "source": [
    "total_worth=pd.merge(total_worth, gdp, on='Country', how='left')"
   ]
  },
  {
   "cell_type": "code",
   "execution_count": 32,
   "metadata": {
    "collapsed": false
   },
   "outputs": [],
   "source": [
    "total_worth['GDP (millions USD)']=total_worth['GDP (millions USD)']*1000000"
   ]
  },
  {
   "cell_type": "code",
   "execution_count": 33,
   "metadata": {
    "collapsed": true
   },
   "outputs": [],
   "source": [
    "total_worth['GDP']=total_worth['GDP (millions USD)']"
   ]
  },
  {
   "cell_type": "code",
   "execution_count": 34,
   "metadata": {
    "collapsed": true
   },
   "outputs": [],
   "source": [
    "del total_worth['GDP (millions USD)']"
   ]
  },
  {
   "cell_type": "code",
   "execution_count": 35,
   "metadata": {
    "collapsed": false
   },
   "outputs": [],
   "source": [
    "total_worth['percent_by_billionaires']=total_worth['total_worth']/total_worth['GDP']"
   ]
  },
  {
   "cell_type": "code",
   "execution_count": 36,
   "metadata": {
    "collapsed": false
   },
   "outputs": [
    {
     "data": {
      "text/html": [
       "<div>\n",
       "<table border=\"1\" class=\"dataframe\">\n",
       "  <thead>\n",
       "    <tr style=\"text-align: right;\">\n",
       "      <th></th>\n",
       "      <th>Country</th>\n",
       "      <th>percent_by_billionaires</th>\n",
       "    </tr>\n",
       "  </thead>\n",
       "  <tbody>\n",
       "    <tr>\n",
       "      <th>54</th>\n",
       "      <td>St. Kitts and Nevis</td>\n",
       "      <td>1.301518</td>\n",
       "    </tr>\n",
       "    <tr>\n",
       "      <th>11</th>\n",
       "      <td>Cyprus</td>\n",
       "      <td>1.019669</td>\n",
       "    </tr>\n",
       "    <tr>\n",
       "      <th>55</th>\n",
       "      <td>Swaziland</td>\n",
       "      <td>0.911330</td>\n",
       "    </tr>\n",
       "    <tr>\n",
       "      <th>20</th>\n",
       "      <td>Guernsey</td>\n",
       "      <td>0.875274</td>\n",
       "    </tr>\n",
       "    <tr>\n",
       "      <th>35</th>\n",
       "      <td>Monaco</td>\n",
       "      <td>0.758700</td>\n",
       "    </tr>\n",
       "    <tr>\n",
       "      <th>21</th>\n",
       "      <td>Hong Kong</td>\n",
       "      <td>0.689513</td>\n",
       "    </tr>\n",
       "    <tr>\n",
       "      <th>17</th>\n",
       "      <td>Georgia</td>\n",
       "      <td>0.372359</td>\n",
       "    </tr>\n",
       "    <tr>\n",
       "      <th>48</th>\n",
       "      <td>Russia</td>\n",
       "      <td>0.318624</td>\n",
       "    </tr>\n",
       "    <tr>\n",
       "      <th>63</th>\n",
       "      <td>Ukraine</td>\n",
       "      <td>0.293550</td>\n",
       "    </tr>\n",
       "    <tr>\n",
       "      <th>30</th>\n",
       "      <td>Lebanon</td>\n",
       "      <td>0.261130</td>\n",
       "    </tr>\n",
       "  </tbody>\n",
       "</table>\n",
       "</div>"
      ],
      "text/plain": [
       "                Country  percent_by_billionaires\n",
       "54  St. Kitts and Nevis                 1.301518\n",
       "11               Cyprus                 1.019669\n",
       "55            Swaziland                 0.911330\n",
       "20             Guernsey                 0.875274\n",
       "35               Monaco                 0.758700\n",
       "21            Hong Kong                 0.689513\n",
       "17              Georgia                 0.372359\n",
       "48               Russia                 0.318624\n",
       "63              Ukraine                 0.293550\n",
       "30              Lebanon                 0.261130"
      ]
     },
     "execution_count": 36,
     "metadata": {},
     "output_type": "execute_result"
    }
   ],
   "source": [
    "# here is the top ten countries by percent of gdp possessed by billionaires\n",
    "total_worth[['Country', 'percent_by_billionaires']].sort_values(by='percent_by_billionaires', ascending=False).head(10)"
   ]
  },
  {
   "cell_type": "code",
   "execution_count": 37,
   "metadata": {
    "collapsed": false
   },
   "outputs": [
    {
     "data": {
      "text/html": [
       "<div>\n",
       "<table border=\"1\" class=\"dataframe\">\n",
       "  <thead>\n",
       "    <tr style=\"text-align: right;\">\n",
       "      <th></th>\n",
       "      <th>Country</th>\n",
       "      <th>percent_by_billionaires</th>\n",
       "    </tr>\n",
       "  </thead>\n",
       "  <tbody>\n",
       "    <tr>\n",
       "      <th>22</th>\n",
       "      <td>India</td>\n",
       "      <td>0.092547</td>\n",
       "    </tr>\n",
       "    <tr>\n",
       "      <th>66</th>\n",
       "      <td>United States</td>\n",
       "      <td>0.129403</td>\n",
       "    </tr>\n",
       "  </tbody>\n",
       "</table>\n",
       "</div>"
      ],
      "text/plain": [
       "          Country  percent_by_billionaires\n",
       "22          India                 0.092547\n",
       "66  United States                 0.129403"
      ]
     },
     "execution_count": 37,
     "metadata": {},
     "output_type": "execute_result"
    }
   ],
   "source": [
    "# and now us vs india\n",
    "total_worth[['Country', 'percent_by_billionaires']].loc[total_worth['Country'].isin(['India', 'United States'])]"
   ]
  },
  {
   "cell_type": "markdown",
   "metadata": {},
   "source": [
    "#### What are the most common industries for billionaires to come from? What's the total amount of billionaire money from each industry?"
   ]
  },
  {
   "cell_type": "code",
   "execution_count": 38,
   "metadata": {
    "collapsed": false
   },
   "outputs": [
    {
     "data": {
      "text/plain": [
       "industry\n",
       "Consumer                           291\n",
       "Real Estate                        190\n",
       "Retail, Restaurant                 174\n",
       "Diversified financial              132\n",
       "Technology-Computer                131\n",
       "Money Management                   122\n",
       "Media                              104\n",
       "Energy                              87\n",
       "Non-consumer industrial             83\n",
       "Technology-Medical                  78\n",
       "Mining and metals                   68\n",
       "Constrution                         61\n",
       "Other                               59\n",
       "Hedge funds                         43\n",
       "Private equity/leveraged buyout     18\n",
       "0                                    6\n",
       "Venture Capital                      5\n",
       "Name: networthusbillion, dtype: int64"
      ]
     },
     "execution_count": 38,
     "metadata": {},
     "output_type": "execute_result"
    }
   ],
   "source": [
    "df.groupby(\"industry\")['networthusbillion'].count().sort_values(ascending=False)"
   ]
  },
  {
   "cell_type": "code",
   "execution_count": 39,
   "metadata": {
    "collapsed": false
   },
   "outputs": [
    {
     "data": {
      "text/plain": [
       "industry\n",
       "Consumer                           1177.8\n",
       "Retail, Restaurant                  820.9\n",
       "Technology-Computer                 684.6\n",
       "Diversified financial               614.4\n",
       "Real Estate                         573.8\n",
       "Media                               490.5\n",
       "Money Management                    381.3\n",
       "Energy                              340.5\n",
       "Non-consumer industrial             298.4\n",
       "Mining and metals                   240.6\n",
       "Technology-Medical                  218.0\n",
       "Other                               179.3\n",
       "Constrution                         175.4\n",
       "Hedge funds                         167.2\n",
       "Private equity/leveraged buyout      71.9\n",
       "Venture Capital                      11.1\n",
       "0                                     7.6\n",
       "Name: networthusbillion, dtype: float64"
      ]
     },
     "execution_count": 39,
     "metadata": {},
     "output_type": "execute_result"
    }
   ],
   "source": [
    "df.groupby(\"industry\")['networthusbillion'].sum().sort_values(ascending=False)"
   ]
  },
  {
   "cell_type": "markdown",
   "metadata": {},
   "source": [
    "#### How many self made billionaires vs. others?"
   ]
  },
  {
   "cell_type": "code",
   "execution_count": 40,
   "metadata": {
    "collapsed": false
   },
   "outputs": [
    {
     "data": {
      "text/plain": [
       "selfmade\n",
       "inherited     505\n",
       "self-made    1146\n",
       "Name: name, dtype: int64"
      ]
     },
     "execution_count": 40,
     "metadata": {},
     "output_type": "execute_result"
    }
   ],
   "source": [
    "df.groupby('selfmade')['name'].count()"
   ]
  },
  {
   "cell_type": "markdown",
   "metadata": {},
   "source": [
    "#### How old are billionaires? How old are billionaires self made vs. non self made? or different industries?"
   ]
  },
  {
   "cell_type": "code",
   "execution_count": 41,
   "metadata": {
    "collapsed": false
   },
   "outputs": [
    {
     "data": {
      "text/plain": [
       "<matplotlib.axes._subplots.AxesSubplot at 0x7fa529b48828>"
      ]
     },
     "execution_count": 41,
     "metadata": {},
     "output_type": "execute_result"
    },
    {
     "data": {
      "image/png": "[encoded data removed]",
      "text/plain": [
       "<matplotlib.figure.Figure at 0x7fa527917278>"
      ]
     },
     "metadata": {},
     "output_type": "display_data"
    }
   ],
   "source": [
    "# this looks like a fairly normal curve\n",
    "df.groupby('age')['selfmade'].count().plot(kind='bar')"
   ]
  },
  {
   "cell_type": "code",
   "execution_count": 43,
   "metadata": {
    "collapsed": false
   },
   "outputs": [
    {
     "data": {
      "text/plain": [
       "<matplotlib.axes._subplots.AxesSubplot at 0x7fa5261bc080>"
      ]
     },
     "execution_count": 43,
     "metadata": {},
     "output_type": "execute_result"
    },
    {
     "data": {
      "image/png": "[encoded data removed]",
      "text/plain": [
       "<matplotlib.figure.Figure at 0x7fa527730358>"
      ]
     },
     "metadata": {},
     "output_type": "display_data"
    },
    {
     "data": {
      "image/png": "[encoded data removed]",
      "text/plain": [
       "<matplotlib.figure.Figure at 0x7fa52772b278>"
      ]
     },
     "metadata": {},
     "output_type": "display_data"
    }
   ],
   "source": [
    "# seems like you generally get to be a billionaire faster if you're self made\n",
    "df.loc[df['selfmade']=='self-made'].groupby('age').count().plot(kind='bar', legend=False)\n",
    "df.loc[df['selfmade']=='inherited'].groupby('age').count().plot(kind='bar', legend=False)"
   ]
  },
  {
   "cell_type": "markdown",
   "metadata": {
    "collapsed": false
   },
   "source": [
    "#### Maybe plot their net worth vs age (scatterplot)"
   ]
  },
  {
   "cell_type": "code",
   "execution_count": 55,
   "metadata": {
    "collapsed": false
   },
   "outputs": [
    {
     "data": {
      "text/plain": [
       "<matplotlib.axes._subplots.AxesSubplot at 0x7fa5261d1748>"
      ]
     },
     "execution_count": 55,
     "metadata": {},
     "output_type": "execute_result"
    },
    {
     "data": {
      "image/png": "[encoded data removed]",
      "text/plain": [
       "<matplotlib.figure.Figure at 0x7fa5244cb8d0>"
      ]
     },
     "metadata": {},
     "output_type": "display_data"
    }
   ],
   "source": [
    "# comparing a number to itself to get rid of NaNs is a trick i learned from stackoverflow\n",
    "# also this isnt a very good graph. nearly all of the billionaires at any age have 1 or near to 1 billion\n",
    "df[['age', 'networthusbillion']].loc[df['age'] == df['age']].plot(kind='scatter', x='age', y='networthusbillion')"
   ]
  },
  {
   "cell_type": "code",
   "execution_count": null,
   "metadata": {
    "collapsed": true
   },
   "outputs": [],
   "source": []
  }
 ],
 "metadata": {
  "kernelspec": {
   "display_name": "IPython (Python 3)",
   "language": "python",
   "name": "python3"
  },
  "language_info": {
   "codemirror_mode": {
    "name": "ipython",
    "version": 3
   },
   "file_extension": ".py",
   "mimetype": "text/x-python",
   "name": "python",
   "nbconvert_exporter": "python",
   "pygments_lexer": "ipython3",
   "version": "3.5.1+"
  }
 },
 "nbformat": 4,
 "nbformat_minor": 0
}
