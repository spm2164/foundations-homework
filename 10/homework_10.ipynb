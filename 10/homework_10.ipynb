{
 "cells": [
  {
   "cell_type": "code",
   "execution_count": 166,
   "metadata": {
    "collapsed": true
   },
   "outputs": [],
   "source": [
    "import requests\n",
    "import datetime"
   ]
  },
  {
   "cell_type": "code",
   "execution_count": 167,
   "metadata": {
    "collapsed": false
   },
   "outputs": [],
   "source": [
    "def rain_warning(precip_chance, precip_type):\n",
    "    warning=''\n",
    "    if precip_chance >= 0.9:\n",
    "        warning=\"Whoa, it's almost certainly \"+precip_type+\"ing today. Bring an umbrella or something.\"\n",
    "    elif precip_chance >= 0.5:\n",
    "        warning=\"Better than even chance of \"+precip_type+\"ing today. Might want to look out for that\"\n",
    "    elif precip_chance >= 0.1:\n",
    "        warning=\"Non-zero chance of \"+precip_type+\"ing today. Just sayin'.\"\n",
    "    else:\n",
    "        warning=\"Pretty much nothing going on today. Might see some \"+ precip_type+\", but don't count on it.\"\n",
    "    return(warning)"
   ]
  },
  {
   "cell_type": "code",
   "execution_count": 168,
   "metadata": {
    "collapsed": true
   },
   "outputs": [],
   "source": [
    "def send_mail(message_text, subject):\n",
    "    return requests.post(\n",
    "        \"https://api.mailgun.net/v3/sandbox5375a212cf1648e59f6321df8fdb88da.mailgun.org/messages\",\n",
    "        auth=(\"api\", \"key-983839b29e1a96ab85533d0097cf5ba5\"),\n",
    "        data={\"from\": \"weather bot <mailgun@mg.seanmoriarty.com>\",\n",
    "              \"to\": \"moriarty.22@gmail.com\",\n",
    "              \"subject\": subject,\n",
    "              \"text\": message_text})"
   ]
  },
  {
   "cell_type": "code",
   "execution_count": 169,
   "metadata": {
    "collapsed": true
   },
   "outputs": [],
   "source": [
    "url = 'https://api.forecast.io/forecast/'\n",
    "apikey = '53343f8442d30d598f50f5910124610a'\n",
    "latlong = '40.8117150,-73.9578630'\n",
    "response = requests.get(url+apikey+'/'+latlong)\n",
    "forecast_complete = response.json()"
   ]
  },
  {
   "cell_type": "code",
   "execution_count": 170,
   "metadata": {
    "collapsed": false
   },
   "outputs": [],
   "source": [
    "current_conditions=forecast_complete['currently']\n",
    "forecast_today=forecast_complete['daily']['data'][0]"
   ]
  },
  {
   "cell_type": "code",
   "execution_count": 171,
   "metadata": {
    "collapsed": false
   },
   "outputs": [],
   "source": [
    "forecast_email=[\"Right now it is \", current_conditions['summary'].lower(), \" out and feels like \", str(current_conditions['temperature']),\n",
    "                \" degrees. Today it will be \", forecast_today['summary'][:-1].lower()+\", with a high of \", \n",
    "                str(forecast_today['temperatureMax']), \" and a low of \", str(forecast_today['temperatureMin']),\" degrees. \"]\n",
    "if 'precipType' in forecast_today:\n",
    "    forecast_email.append(rain_warning(forecast_today['precipProbability'], forecast_today['precipType']))\n",
    "else:\n",
    "    forecast_email.append(\"Literally no chance of precipitation today. \")"
   ]
  },
  {
   "cell_type": "code",
   "execution_count": 172,
   "metadata": {
    "collapsed": false
   },
   "outputs": [],
   "source": [
    "today_raw = datetime.datetime.today()\n",
    "today = today_raw.strftime(\"%A %B %d %Y\").split(' ')\n",
    "msg_subject=('8AM Weather forecast for ', today[0]+', ', today[1], ' ', today[2]+', ', today[3])\n"
   ]
  },
  {
   "cell_type": "code",
   "execution_count": 173,
   "metadata": {
    "collapsed": false
   },
   "outputs": [
    {
     "data": {
      "text/plain": [
       "<Response [200]>"
      ]
     },
     "execution_count": 173,
     "metadata": {},
     "output_type": "execute_result"
    }
   ],
   "source": [
    "send_mail(''.join(forecast_email), ''.join(msg_subject))"
   ]
  },
  {
   "cell_type": "code",
   "execution_count": null,
   "metadata": {
    "collapsed": true
   },
   "outputs": [],
   "source": []
  }
 ],
 "metadata": {
  "kernelspec": {
   "display_name": "Python 3",
   "language": "python",
   "name": "python3"
  },
  "language_info": {
   "codemirror_mode": {
    "name": "ipython",
    "version": 3
   },
   "file_extension": ".py",
   "mimetype": "text/x-python",
   "name": "python",
   "nbconvert_exporter": "python",
   "pygments_lexer": "ipython3",
   "version": "3.5.0"
  }
 },
 "nbformat": 4,
 "nbformat_minor": 0
}
