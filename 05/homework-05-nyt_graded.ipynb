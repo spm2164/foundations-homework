{
 "cells": [
  {
   "cell_type": "markdown",
   "metadata": {},
   "source": [
    "### Grade: 8 / 8"
   ]
  },
  {
   "cell_type": "code",
   "execution_count": 3,
   "metadata": {
    "collapsed": true
   },
   "outputs": [],
   "source": [
    "import requests\n",
    "api=('ceabb939ee5542d3adeab7e2cdc529ef')"
   ]
  },
  {
   "cell_type": "code",
   "execution_count": 3,
   "metadata": {
    "collapsed": false
   },
   "outputs": [],
   "source": [
    "response=requests.get('http://api.nytimes.com/svc/books/v3/lists/2009-05-10/hardcover-fiction.json?api-key='+api)\n",
    "mothers_day_09_raw=response.json()\n",
    "response=requests.get('http://api.nytimes.com/svc/books/v3/lists/2010-05-09/hardcover-fiction.json?api-key='+api)\n",
    "mothers_day_10_raw=response.json()\n",
    "mothers_day_09_books=mothers_day_09_raw['results']['books']\n",
    "mothers_day_10_books=mothers_day_10_raw['results']['books']"
   ]
  },
  {
   "cell_type": "code",
   "execution_count": 4,
   "metadata": {
    "collapsed": false
   },
   "outputs": [
    {
     "name": "stdout",
     "output_type": "stream",
     "text": [
      "Here's the Mother's Day '09 best seller list for hardcover fiction:\n",
      "1 FIRST FAMILY - Former Secret Service agents, now P.I.’s, search for a child abducted from a party at Camp David.\n",
      "2 TEA TIME FOR THE TRADITIONALLY BUILT - The 10th novel in the No. 1 Ladies’ Detective Agency series.\n",
      "3 LOITERING WITH INTENT - Stone Barrington, the New York cop turned lawyer, takes a case in Key West.\n",
      "4 JUST TAKE MY HEART - An assistant prosecutor  who has had a heart transplant discovers that her life is at risk when she tries a murder case.\n",
      "5 THE PERFECT POISON - A Victorian botanist investigates a poisoning; an Arcane Society novel.\n",
      "6 THE HOST - Aliens have taken control of the minds and bodies of most humans, but one woman won’t surrender.\n",
      "7 LOOK AGAIN - A reporter learns that her adopted son may have been abducted from his birth mother.\n",
      "8 DEADLOCK - A U.N. expert searching for Romanov treasure is kidnapped.\n",
      "9 LONG LOST - Myron Bolitar helps an ex-lover search for her daughter.\n",
      "10 TURN COAT - Book 11 of the Dresden Files series about a wizard detective in Chicago.\n",
      "11 THE ASSOCIATE - An idealistic law-school graduate is forced to take a job at a large, brutalizing law firm.\n",
      "12 HANDLE WITH CARE - A woman whose daughter has a dangerous birth defect must decide whether to sue her obstetrician, an old friend.\n",
      "13 THE HELP - A young white woman and two black maids in 1960s ­Mississippi.\n",
      "14 THE GUERNSEY LITERARY AND POTATO PEEL PIE SOCIETY - A journalist meets the island’s old Nazi resisters.\n",
      "15 FATALLY FLAKY - The caterer Goldy Schulz tries to outwit a killer on the grounds of an Aspen spa.\n",
      "16 ARTHAS - A World of Warcraft fantasy novel.\n",
      "17 A RELIABLE WIFE - Complications ensue when a wealthy Wisconsin widower in 1907 advertises for a spouse.\n",
      "18 BORDERLINE - Off duty and on vacation in Big Bend National Park, Anna Pigeon rescues a baby and is drawn into cross-border intrigue.\n",
      "19 ONE SECOND AFTER - A retired Army colonel in North Carolina protects his family when a nuclear blast disables the power grid.\n",
      "20 BONEMAN'S DAUGHTERS - Ryan Evans faces a serial killer who murders his young victims in a highly idiosyncratic way.\n",
      "\n",
      "And here's the same, for '10:\n",
      "1 DELIVER US FROM EVIL - Two agents are tracking the same man, a human trafficker who is now dealing in nuclear arms.\n",
      "2 THE HELP - A young white woman and two black maids in 1960s ­Mississippi.\n",
      "3 THE DOUBLE COMFORT SAFARI CLUB - \n",
      "The 11th novel in the No. 1 Ladies’ Detective Agency series.\n",
      "4 THIS BODY OF DEATH - Detective Thomas Lynley becomes involved when a woman’s body is found in a London cemetery.\n",
      "5 LUCID INTERVALS - Stone Barrington, the New York cop turned lawyer, helps search for a former British intelligence operative.\n",
      "6 THE SHADOW OF YOUR SMILE - An elderly woman must decide whether to reveal a family secret.\n",
      "7 BURNING LAMP - A Victorian crime lord fears he has fallen prey to an ancestral curse, and only a magical artifact can save him; an Arcane Society novel and the second book in the Dreamlight trilogy.\n",
      "8 EVERY LAST ONE - After a shocking assault on her family, a woman must discover how to live the rest of her life.\n",
      "9 EIGHT DAYS TO LIVE - \n",
      "A painting by Eve Duncan’s adopted daughter draws the ire of a religious cult.\n",
      "10 CHANGES - Book 12 of the Dresden Files series about a wizard detective in Chicago.\n",
      "11 CAUGHT - A suburban girl goes missing.\n",
      "12 HOUSE RULES - A teenage boy with Asperger’s syndrome is accused of murder.\n",
      "13 MATTERHORN - Marines in Vietnam in 1969.\n",
      "14 THE WALK - A Seattle ad executive loses everything and starts walking to Key West.\n",
      "15 DECEPTION - The Los Angeles psychologist-detective Alex Delaware and the detective Milo Sturgis work on a prep-school murder case.\n",
      "16 BEATRICE AND VIRGIL - The fate of stuffed animals in a taxidermy shop is an allegory for the Holocaust; from the author of “The Life of Pi.”\n",
      "17 WRECKED - In the 13th mystery in this series, the suspicious disappearance of a neighbor interrupts a romantic weekend on Cape Cod for the P.I. Regan Reilly and her husband.\n",
      "18 SILVER BORNE - The shapeshifter Mercy Thompson works on her relationship with the leader of the werewolf pack and helps a suicidal friend.\n",
      "19 ABRAHAM LINCOLN: VAMPIRE HUNTER - A journal reveals Lincoln’s fight against the undead; by the author of “Pride and Prejudice and Zombies.\"\n",
      "20 A RIVER IN THE SKY - In 1910, the Peabody-Emerson clan tries to head off a holy war in Palestine; an Amelia Peabody mystery.\n"
     ]
    }
   ],
   "source": [
    "print(\"Here's the Mother's Day '09 best seller list for hardcover fiction:\")\n",
    "for book in mothers_day_09_books:\n",
    "    print(book['rank'], book['title'], '-', book['description'])\n",
    "print(\"\\nAnd here's the same, for '10:\")\n",
    "for book in mothers_day_10_books:\n",
    "    print(book['rank'], book['title'], '-', book['description'])"
   ]
  },
  {
   "cell_type": "code",
   "execution_count": 5,
   "metadata": {
    "collapsed": true
   },
   "outputs": [],
   "source": [
    "response=requests.get('http://api.nytimes.com/svc/books/v3/lists/2009-06-21/hardcover-fiction.json?api-key='+api)\n",
    "fathers_day_09_raw=response.json()\n",
    "response=requests.get('http://api.nytimes.com/svc/books/v3/lists/2010-06-20/hardcover-fiction.json?api-key='+api)\n",
    "fathers_day_10_raw=response.json()\n",
    "fathers_day_09_books=fathers_day_09_raw['results']['books']\n",
    "fathers_day_10_books=fathers_day_10_raw['results']['books']"
   ]
  },
  {
   "cell_type": "code",
   "execution_count": 6,
   "metadata": {
    "collapsed": false
   },
   "outputs": [
    {
     "name": "stdout",
     "output_type": "stream",
     "text": [
      "Let's contrast that to Father's Day '09:\n",
      "1 SKIN TRADE - Investigating some killings in Las Vegas, the vampire hunter Anita Blake must contend with the power of the weretigers.\n",
      "2 MEDUSA - In the eighth NUMA Files novel, Kurt Austin and his team confront a rare jellyfish, a Chinese crime syndicate and a deadly virus.\n",
      "3 THE SCARECROW - A Los Angeles Times reporter tracks a devious killer.\n",
      "4 SHANGHAI GIRLS - Two Chinese sisters in the 1930s are sold as wives to men from California, and leave their war-torn country to join them.\n",
      "5 MATTERS OF THE HEART - A New York photographer falls in love with a sociopathic novelist who lures her to his isolated Irish estate.\n",
      "6 GONE TOMORROW - Jack Reacher discovers a conspiracy dating back to the Soviet war in Afghanistan.\n",
      "7 DEAD AND GONE - Sookie Stackhouse searches for the killer of a werepanther.\n",
      "8 THE 8TH CONFESSION - Detective Lindsay Boxer and the Women’s Murder Club investigate a pair of killings.\n",
      "9 THE STRAIN - An epidemiologist and others struggle to contain a vampiric virus that has infected New York; the first book of a trilogy.\n",
      "10 WICKED PREY - The Minneapolis detective Lucas Davenport deals with mayhem occasioned by the Republican convention.\n",
      "11 THE HOST - Aliens have taken control of the minds and bodies of most humans, but one woman won’t surrender.\n",
      "12 FIRST FAMILY - Former Secret Service agents, now P.I.’s, search for a child abducted after a party at Camp David.\n",
      "13 CEMETERY DANCE - \n",
      "\n",
      "The F.B.I. agent Aloysius Pendergast investigates the murder of a Times reporter.\n",
      "14 UNDEAD AND UNWELCOME - Betsy Taylor, a suburban vampire queen, tangles with a pack of werewolves.\n",
      "15 THE HELP - A young white woman and two black maids in 1960s ­Mississippi.\n",
      "16 PYGMY - Terrorists from a totalitarian country enter the Midwest disguised as exchange students in this satire.\n",
      "17 MY FATHER'S TEARS AND OTHER STORIES - \n",
      "18 ROAD DOGS - Cundo Rey and Jack Foley, characters from earlier Leonard novels, are out of prison, living with Dawn Navarro in Venice Beach, and possibly trying to go straight.\n",
      "19 THE STORY SISTERS - \n",
      "20 HEARTLESS - A woman‘s secret makes it hard for her to accept her stepbrother‘s love.\n",
      "\n",
      "And the same, for '10:\n",
      "1 THE GIRL WHO KICKED THE HORNET’S NEST - The third volume of a trilogy about a Swedish hacker and a journalist.\n",
      "2 BULLET - Anita Blake, vampire hunter, is menaced by the Mother of All Darkness, who wants to take over her body.\n",
      "3 THE SPY - In 1908, a murder leads the detective Isaac Bell to investigate international spies who are trying to keep America from developing a fleet of dreadnought battleships.\n",
      "4 THE HELP - A young white woman and two black maids in 1960s ­Mississippi.\n",
      "5 DEAD IN THE FAMILY - Sookie Stackhouse is exhausted in the aftermath of a Fae war.\n",
      "6 61 HOURS - Jack Reacher helps the police in a small South Dakota town protect a witness in a drug trial.\n",
      "7 THE BURNING WIRE - The forensic detective Lincoln Rhyme investigates a series of murderous electrical explosions and tracks the killer known as the Watchmaker to Mexico.\n",
      "8 STORM PREY - Lucas Davenport’s wife is a witness to a botched robbery and murder in the 20th novel in the “Prey” series.\n",
      "9 THE BOURNE OBJECTIVE - Robert Ludlum’s character Jason Bourne matches wits with a vicious Russian mercenary.\n",
      "10 INNOCENT - Turow revisits the characters from “Presumed Innocent.”\n",
      "11 HEART OF THE MATTER - The lives of two women — one married to a pediatric plastic surgeon, the other a lawyer and single mother — converge after an accident involving the lawyer’s son.\n",
      "12 THE 9TH JUDGMENT - Detective Lindsay Boxer pursues a killer who’s preying on women and children.\n",
      "13 BLOCKADE BILLY - A tale about the dark side of baseball, circa 1957.\n",
      "14 ALLIES - The Skywalkers and the Sith undertake an unprecedented joint mission; a “Star Wars: Fate of the Jedi” book.\n",
      "15 THE RULE OF NINE - The lawyer Paul Madriani pursues the hired assassin Liquida, who is out for revenge, while a terrorist plots an attack on the United States.\n",
      "16 FEVER DREAM -  The F.B.I. agent Aloysius Pendergast, who has long thought that his wife was killed in an accident, learns that she was actually murdered; originally published in 2010.\n",
      "17 DELIVER US FROM EVIL - Two agents are tracking the same man, a human trafficker who is now dealing in nuclear arms.\n",
      "18 MATTERHORN - Bloody folly envelops a Marine company’s construction, abandonment and retaking of a remote hilltop outpost in Vietnam.\n",
      "19 THE PARTICULAR SADNESS OF LEMON CAKE - A girl has insights into other people’s secret emotions.\n",
      "20 DANGEROUS - A Texas F.B.I. agent falls in love with a woman with a past.\n"
     ]
    }
   ],
   "source": [
    "print(\"Let's contrast that to Father's Day '09:\")\n",
    "for book in fathers_day_09_books:\n",
    "    print(book['rank'], book['title'], '-', book['description'])\n",
    "print(\"\\nAnd the same, for '10:\")\n",
    "for book in fathers_day_10_books:\n",
    "    print(book['rank'], book['title'], '-', book['description'])"
   ]
  },
  {
   "cell_type": "code",
   "execution_count": 7,
   "metadata": {
    "collapsed": false
   },
   "outputs": [],
   "source": [
    "response=requests.get('https://api.nytimes.com/svc/books/v3/lists/names.json?api-key='+api)\n",
    "raw_list_names=response.json()\n",
    "#raw_list_names.keys()"
   ]
  },
  {
   "cell_type": "code",
   "execution_count": 8,
   "metadata": {
    "collapsed": false
   },
   "outputs": [
    {
     "name": "stdout",
     "output_type": "stream",
     "text": [
      "Here's a big list of all the book categories ranked on June 06, 2009: Hardcover Fiction, Hardcover Nonfiction, Trade Fiction Paperback, Mass Market Paperback, Paperback Nonfiction, Hardcover Advice, Paperback Advice, Chapter Books, Paperback Books, Picture Books, Series Books, Hardcover Graphic Books, Paperback Graphic Books, Manga\n",
      "\n",
      "And here's the same list but for 2015: Combined Print and E-Book Fiction, Combined Print and E-Book Nonfiction, Hardcover Fiction, Hardcover Nonfiction, Trade Fiction Paperback, Mass Market Paperback, Paperback Nonfiction, E-Book Fiction, E-Book Nonfiction, Hardcover Advice, Paperback Advice, Advice How-To and Miscellaneous, Chapter Books, Childrens Middle Grade, Paperback Books, Picture Books, Series Books, Young Adult, Hardcover Graphic Books, Paperback Graphic Books, Manga, Combined Print Fiction, Combined Print Nonfiction, Animals, Business Books, Celebrities, Crime and Punishment, Culture, Education, Espionage, Expeditions Disasters and Adventures, Fashion Manners and Customs, Food and Fitness, Games and Activities, Hardcover Business Books, Health, Humor, Indigenous Americans, Relationships, Paperback Business Books, Family, Hardcover Political Books, Race and Civil Rights, Religion Spirituality and Faith, Science, Sports, Travel\n"
     ]
    }
   ],
   "source": [
    "list_names=raw_list_names['results']\n",
    "#type(list_names)\n",
    "june_06_2009_list=[]\n",
    "june_06_2015_list=[]\n",
    "for name in list_names:\n",
    "    if name['oldest_published_date']<'2009-06-06':\n",
    "        june_06_2009_list.append(name['list_name'])\n",
    "    if name['oldest_published_date']<'2015-06-06':\n",
    "        june_06_2015_list.append(name['list_name'])\n",
    "print(\"Here's a big list of all the book categories ranked on June 06, 2009:\", \", \".join(june_06_2009_list))\n",
    "print(\"\\nAnd here's the same list but for 2015:\", \", \".join(june_06_2015_list))"
   ]
  },
  {
   "cell_type": "code",
   "execution_count": 9,
   "metadata": {
    "collapsed": false
   },
   "outputs": [
    {
     "name": "stdout",
     "output_type": "stream",
     "text": [
      "Gadafi returns 0 hits\n",
      "Gaddafi returns 1020 hits\n",
      "Kadafi returns 3 hits\n",
      "Qaddafi returns 5253 hits\n"
     ]
    }
   ],
   "source": [
    "muammar_list=['Gadafi', 'Gaddafi', 'Kadafi', 'Qaddafi']\n",
    "for muammar in muammar_list:\n",
    "    response=requests.get('https://api.nytimes.com/svc/search/v2/articlesearch.json?q='+muammar+'&fq=Libya&api-key='+api)\n",
    "    muammar_data=response.json()\n",
    "    print(muammar, \"returns\", muammar_data['response']['meta']['hits'], \"hits\")"
   ]
  },
  {
   "cell_type": "code",
   "execution_count": 10,
   "metadata": {
    "collapsed": false
   },
   "outputs": [
    {
     "name": "stdout",
     "output_type": "stream",
     "text": [
      "The first article to mention the word hipster in 1995 was titled SOUND and had the publication date 1995-02-05\n",
      "And here is the first paragraph of that amazing article:\n",
      " Portable record players with built-in speakers, from the 1960's, are the latest points on hipster score cards. In some cases, they are the only way to listen to many of the old LP or 45-r.p.m. recordings still around but not released on cassette or CD. Usually available in white plastic or metal, they can be found in flea markets and secondhand stores. One style has the arm cast in the shape of a cobra. (Don Hogan Charles/The New York Times)\n"
     ]
    }
   ],
   "source": [
    "response=requests.get('https://api.nytimes.com/svc/search/v2/articlesearch.json?q=hipster&begin_date=19950101&end_date=19951231&api-key='+api)\n",
    "hipster_data=response.json()\n",
    "earliest_hipster_doc={'title': '???', 'pub_date': '???', 'lede': '???'}\n",
    "earliest_date='1995-12-31'\n",
    "for doc in hipster_data['response']['docs']:\n",
    "    pub_date=doc['pub_date'][:-10]\n",
    "    if pub_date<earliest_date:\n",
    "        earliest_date=pub_date\n",
    "        earliest_hipster_doc['title']=doc['headline']['main']\n",
    "        earliest_hipster_doc['pub_date']=pub_date\n",
    "        earliest_hipster_doc['lede']=doc['lead_paragraph']\n",
    "print(\"The first article to mention the word hipster in 1995 was titled\", earliest_hipster_doc['title'], \"and had the publication date\", earliest_hipster_doc['pub_date'])\n",
    "print(\"And here is the first paragraph of that amazing article:\\n\", earliest_hipster_doc['lede'])"
   ]
  },
  {
   "cell_type": "code",
   "execution_count": 11,
   "metadata": {
    "collapsed": false
   },
   "outputs": [
    {
     "name": "stdout",
     "output_type": "stream",
     "text": [
      "There were 0 mentions of gay marriange in the 1950's.\n",
      "There were 0 mentions of gay marriange in the 1960's.\n",
      "There were 0 mentions of gay marriange in the 1970's.\n",
      "There were 3 mentions of gay marriange in the 1980's.\n",
      "There were 137 mentions of gay marriange in the 1990's.\n",
      "There were 2510 mentions of gay marriange in the 2000's.\n",
      "There were 4758 mentions of gay marriange in the 2010's.\n"
     ]
    }
   ],
   "source": [
    "url='https://api.nytimes.com/svc/search/v2/articlesearch.json?q=\"gay marriage\"'\n",
    "begin_date=[19500101, 19600101, 19700101, 19800101, 19900101, 20000101, 20100101]\n",
    "end_date=[19591231, 19691231, 19791231, 19891231, 19991231, 20091231, 20161231]\n",
    "decade_counter=1950\n",
    "for a in range(0, 7):\n",
    "    response=requests.get(url+'&begin_date='+str(begin_date[a])+'&end_date='+str(end_date[a])+'&api-key='+api)\n",
    "    raw_gay_marriage_doc=response.json()\n",
    "    print(\"There were\", raw_gay_marriage_doc['response']['meta']['hits'], \"mentions of gay marriange in the\", str(decade_counter)+\"'s.\")\n",
    "    decade_counter+=10"
   ]
  },
  {
   "cell_type": "code",
   "execution_count": 18,
   "metadata": {
    "collapsed": false,
    "scrolled": true
   },
   "outputs": [
    {
     "name": "stdout",
     "output_type": "stream",
     "text": [
      "did page 0\n",
      "did page 1\n",
      "did page 2\n",
      "did page 3\n",
      "did page 4\n",
      "did page 5\n",
      "did page 6\n",
      "did page 7\n",
      "did page 8\n",
      "did page 9\n",
      "did page 10\n",
      "did page 11\n",
      "did page 12\n",
      "did page 13\n",
      "did page 14\n",
      "did page 15\n",
      "did page 16\n",
      "did page 17\n",
      "did page 18\n",
      "did page 19\n",
      "did page 20\n",
      "did page 21\n",
      "did page 22\n",
      "did page 23\n",
      "did page 24\n",
      "did page 25\n",
      "did page 26\n",
      "did page 27\n",
      "did page 28\n",
      "did page 29\n",
      "did page 30\n",
      "did page 31\n",
      "did page 32\n",
      "did page 33\n",
      "did page 34\n",
      "did page 35\n",
      "did page 36\n",
      "did page 37\n",
      "did page 38\n",
      "did page 39\n",
      "did page 40\n",
      "did page 41\n",
      "did page 42\n",
      "did page 43\n",
      "did page 44\n",
      "did page 45\n",
      "did page 46\n",
      "did page 47\n",
      "did page 48\n",
      "did page 49\n",
      "did page 50\n",
      "did page 51\n",
      "did page 52\n",
      "did page 53\n",
      "did page 54\n",
      "did page 55\n",
      "did page 56\n",
      "did page 57\n",
      "did page 58\n",
      "did page 59\n",
      "did page 60\n",
      "did page 61\n",
      "did page 62\n",
      "did page 63\n",
      "did page 64\n",
      "did page 65\n",
      "did page 66\n",
      "did page 67\n",
      "did page 68\n",
      "did page 69\n",
      "did page 70\n",
      "did page 71\n",
      "did page 72\n",
      "did page 73\n",
      "did page 74\n",
      "did page 75\n",
      "did page 76\n",
      "did page 77\n",
      "did page 78\n",
      "did page 79\n",
      "did page 80\n",
      "did page 81\n",
      "did page 82\n",
      "did page 83\n",
      "did page 84\n",
      "did page 85\n",
      "did page 86\n",
      "did page 87\n",
      "did page 88\n",
      "did page 89\n",
      "did page 90\n",
      "did page 91\n",
      "did page 92\n",
      "did page 93\n",
      "did page 94\n",
      "did page 95\n",
      "did page 96\n",
      "did page 97\n",
      "did page 98\n",
      "did page 99\n",
      "did page 100\n"
     ]
    }
   ],
   "source": [
    "# This whole section was originally to get the number of hits so we can iterate through all of the pages. Unfortunately,\n",
    "# you can't actually request beyond page 100 in the nyt api. So instead, I commented this out and said 0 to 101.\n",
    "\n",
    "# url='https://api.nytimes.com/svc/search/v2/articlesearch.json?q=motorcycle'\n",
    "# response=requests.get(url+'&api-key='+api)\n",
    "# raw_motorcycle_doc=response.json()\n",
    "# hits=raw_motorcycle_doc['response']['meta']['hits']\n",
    "url='https://api.nytimes.com/svc/search/v2/articlesearch.json?q=motorcycle'\n",
    "motorcycle_sections=[]\n",
    "for page in range(0, 101):\n",
    "    response=requests.get(url+'&page='+str(page)+'&api-key='+api)\n",
    "    raw_motorcycle_doc=response.json()\n",
    "    for doc in raw_motorcycle_doc['response']['docs']:    \n",
    "        motorcycle_sections.append(doc['section_name'])\n",
    "    print(\"did page\", page)"
   ]
  },
  {
   "cell_type": "code",
   "execution_count": 23,
   "metadata": {
    "collapsed": false
   },
   "outputs": [
    {
     "name": "stdout",
     "output_type": "stream",
     "text": [
      "new value: Technology; Automobiles 1\n",
      "new value: Arts; Books 3\n",
      "new value: Health 4\n",
      "new value: Arts 9\n",
      "new value: Autos 67\n",
      "new value: U.S. 70\n",
      "The section that mentions motorcycles the most (at least on the first 100 pages) is U.S. with 70 total mentions\n"
     ]
    }
   ],
   "source": [
    "from collections import Counter\n",
    "most_motorcycle_section={'section': '???', 'total': 0}\n",
    "cleaned_list=dict(Counter(motorcycle_sections))\n",
    "for key, value in cleaned_list.items():\n",
    "    if key and value > most_motorcycle_section['total']:\n",
    "        most_motorcycle_section={'section': key, 'total': value}\n",
    "        print(\"new value:\", key, value)\n",
    "print(\"The section that mentions motorcycles the most (at least on the first 100 pages) is\", most_motorcycle_section['section'], \"with\", most_motorcycle_section['total'], \"total mentions\")"
   ]
  },
  {
   "cell_type": "code",
   "execution_count": 4,
   "metadata": {
    "collapsed": false
   },
   "outputs": [
    {
     "name": "stdout",
     "output_type": "stream",
     "text": [
      "Of the first 20 titles, 6 were critic's picks\n",
      "Of the first 40 titles, 15 were critic's picks\n",
      "Of the first 60 titles, 20 were critic's picks\n"
     ]
    }
   ],
   "source": [
    "url=\"https://api.nytimes.com/svc/movies/v2/reviews/search.json\"\n",
    "critics_picks=[]\n",
    "#movie_list=[]\n",
    "reviewer_list=[]\n",
    "offset=0\n",
    "for a in range(0,3):\n",
    "    response=requests.get(url+\"?offset=\"+str(offset)+\"&api-key=\"+api)\n",
    "    movie_list_raw=response.json()\n",
    "    for movie in movie_list_raw['results']:\n",
    "        #print(movie.keys())\n",
    "        #movie_list.append({'title': movie['display_title'], 'reviewer': movie['byline']})\n",
    "        reviewer_list.append(movie['byline'])\n",
    "        if movie['critics_pick']:\n",
    "            critics_picks.append(movie['display_title'])\n",
    "    print(\"Of the first\", offset+20, \"titles,\", len(critics_picks), \"were critic's picks\")\n",
    "    offset+=20\n",
    "    \n",
    "#print(critics_picks)\n"
   ]
  },
  {
   "cell_type": "code",
   "execution_count": 14,
   "metadata": {
    "collapsed": false
   },
   "outputs": [
    {
     "name": "stdout",
     "output_type": "stream",
     "text": [
      "The reviewer with the most reviews was A. O. Scott with 9 total\n"
     ]
    }
   ],
   "source": [
    "from collections import Counter\n",
    "reviewiest=Counter(reviewer_list).most_common(1)[0]\n",
    "print(\"The reviewer with the most reviews was\", reviewiest[0].title(), \"with\", reviewiest[1], \"total\")"
   ]
  },
  {
   "cell_type": "code",
   "execution_count": null,
   "metadata": {
    "collapsed": false
   },
   "outputs": [],
   "source": []
  },
  {
   "cell_type": "code",
   "execution_count": null,
   "metadata": {
    "collapsed": true
   },
   "outputs": [],
   "source": []
  }
 ],
 "metadata": {
  "kernelspec": {
   "display_name": "Python 3",
   "language": "python",
   "name": "python3"
  },
  "language_info": {
   "codemirror_mode": {
    "name": "ipython",
    "version": 3
   },
   "file_extension": ".py",
   "mimetype": "text/x-python",
   "name": "python",
   "nbconvert_exporter": "python",
   "pygments_lexer": "ipython3",
   "version": "3.5.0"
  }
 },
 "nbformat": 4,
 "nbformat_minor": 0
}
