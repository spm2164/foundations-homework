{
 "cells": [
  {
   "cell_type": "markdown",
   "metadata": {},
   "source": [
    "### Grade: 8 / 8"
   ]
  },
  {
   "cell_type": "code",
   "execution_count": 1,
   "metadata": {
    "collapsed": true
   },
   "outputs": [],
   "source": [
    "import requests"
   ]
  },
  {
   "cell_type": "code",
   "execution_count": 2,
   "metadata": {
    "collapsed": false
   },
   "outputs": [],
   "source": [
    "lil_response = requests.get('https://api.spotify.com/v1/search?q=Lil&type=artist&market=US&limit=50')\n",
    "raw_lil_data=lil_response.json()\n",
    "artists=raw_lil_data['artists']['items']"
   ]
  },
  {
   "cell_type": "code",
   "execution_count": 3,
   "metadata": {
    "collapsed": false,
    "scrolled": true
   },
   "outputs": [
    {
     "name": "stdout",
     "output_type": "stream",
     "text": [
      "Here are 50 Lil-adjacent artists for you to peruse:\n",
      "1 Lil Wayne 86\n",
      "2 Lil Yachty 72\n",
      "3 Lil Uzi Vert 72\n",
      "4 Lil Dicky 68\n",
      "5 Boosie Badazz 67\n",
      "6 Lil Jon 72\n",
      "7 King Lil G 61\n",
      "8 Lil Durk 60\n",
      "9 Lil Jon & The East Side Boyz 60\n",
      "10 Lil Bibby 54\n",
      "11 G Herbo 53\n",
      "12 Lil Rob 50\n",
      "13 Lil Reese 50\n",
      "14 Lil Keke 48\n",
      "15 Bow Wow 57\n",
      "16 Lil Scrappy 49\n",
      "17 Lil Wyte 50\n",
      "18 Lil Blood 45\n",
      "19 Lil Snupe 45\n",
      "20 Lil Mama 45\n",
      "21 Lil B 44\n",
      "22 Lil' Kim 62\n",
      "23 Lil Cuete 40\n",
      "24 Lil Phat 39\n",
      "25 Lil Debbie 43\n",
      "26 Lil Twist 39\n",
      "27 Lil Trill 37\n",
      "28 Lil Twon 38\n",
      "29 Lil AJ 37\n",
      "30 Lil Lonnie 36\n",
      "31 Lil Goofy 35\n",
      "32 Mr. Lil One 36\n",
      "33 Lil Haiti 36\n",
      "34 Lil Flash 38\n",
      "35 Lil Kesh 39\n",
      "36 Lil Cray 35\n",
      "37 Lil Rue 34\n",
      "38 Lil Silva 43\n",
      "39 Lil Eddie 41\n",
      "40 Lil Boom 34\n",
      "41 Lil Yase 33\n",
      "42 Lil Wayne, DJ Drama 35\n",
      "43 Lil Suzy 34\n",
      "44 Lil Mouse 34\n",
      "45 Lil C 33\n",
      "46 Lil Rick 39\n",
      "47 Lil E 34\n",
      "48 Lil June 32\n",
      "49 Lil Fate 34\n",
      "50 Lil' Flip 49\n"
     ]
    }
   ],
   "source": [
    "print('Here are 50 Lil-adjacent artists for you to peruse:')\n",
    "artist_count=0\n",
    "for artist in artists:\n",
    "    artist_count=artist_count+1\n",
    "    print(artist_count, artist['name'], artist['popularity'])"
   ]
  },
  {
   "cell_type": "code",
   "execution_count": 4,
   "metadata": {
    "collapsed": false
   },
   "outputs": [
    {
     "name": "stdout",
     "output_type": "stream",
     "text": [
      "Here is that same list but with genres, maybe:\n",
      "Lil Wayne is dirty south rap, pop rap, southern hip hop, trap music\n",
      "Lil Yachty stinks and has no genres\n",
      "Lil Uzi Vert stinks and has no genres\n",
      "Lil Dicky stinks and has no genres\n",
      "Boosie Badazz stinks and has no genres\n",
      "Lil Jon is crunk, dirty south rap, southern hip hop\n",
      "King Lil G stinks and has no genres\n",
      "Lil Durk stinks and has no genres\n",
      "Lil Jon & The East Side Boyz stinks and has no genres\n",
      "Lil Bibby stinks and has no genres\n",
      "G Herbo stinks and has no genres\n",
      "Lil Rob is chicano rap, latin hip hop\n",
      "Lil Reese stinks and has no genres\n",
      "Lil Keke stinks and has no genres\n",
      "Bow Wow is hip pop, pop rap\n",
      "Lil Scrappy is crunk, dirty south rap, southern hip hop, trap music\n",
      "Lil Wyte is juggalo\n",
      "Lil Blood stinks and has no genres\n",
      "Lil Snupe stinks and has no genres\n",
      "Lil Mama is hip pop\n",
      "Lil B stinks and has no genres\n",
      "Lil' Kim is hip pop\n",
      "Lil Cuete is chicano rap\n",
      "Lil Phat stinks and has no genres\n",
      "Lil Debbie stinks and has no genres\n",
      "Lil Twist is jerk\n",
      "Lil Trill is deep trap\n",
      "Lil Twon stinks and has no genres\n",
      "Lil AJ stinks and has no genres\n",
      "Lil Lonnie stinks and has no genres\n",
      "Lil Goofy stinks and has no genres\n",
      "Mr. Lil One is chicano rap\n",
      "Lil Haiti stinks and has no genres\n",
      "Lil Flash stinks and has no genres\n",
      "Lil Kesh stinks and has no genres\n",
      "Lil Cray stinks and has no genres\n",
      "Lil Rue stinks and has no genres\n",
      "Lil Silva stinks and has no genres\n",
      "Lil Eddie stinks and has no genres\n",
      "Lil Boom stinks and has no genres\n",
      "Lil Yase stinks and has no genres\n",
      "Lil Wayne, DJ Drama stinks and has no genres\n",
      "Lil Suzy is freestyle\n",
      "Lil Mouse stinks and has no genres\n",
      "Lil C stinks and has no genres\n",
      "Lil Rick is soca\n",
      "Lil E stinks and has no genres\n",
      "Lil June stinks and has no genres\n",
      "Lil Fate stinks and has no genres\n",
      "Lil' Flip is crunk, dirty south rap\n"
     ]
    }
   ],
   "source": [
    "print('Here is that same list but with genres, maybe:')\n",
    "for artist in artists:\n",
    "    if not artist['genres']:\n",
    "        print(artist['name'], 'stinks and has no genres')\n",
    "    else:\n",
    "        print(artist['name'], 'is', \", \".join(artist['genres']))"
   ]
  },
  {
   "cell_type": "code",
   "execution_count": 5,
   "metadata": {
    "collapsed": false
   },
   "outputs": [
    {
     "name": "stdout",
     "output_type": "stream",
     "text": [
      "The most popular Lil OTHER THAN (obviously) Lil Wayne is: Lil Yachty\n",
      "The next most popular Lil after that is: Lil Uzi Vert\n",
      "Lil Wayne also has the most followers with 2622820\n"
     ]
    }
   ],
   "source": [
    "most_popular={'artist': '???', 'popularity': 0, 'followers': 0}\n",
    "second_most_popular={'artist': '???', 'popularity': 0, 'followers': 0}\n",
    "third_most_popular={'artist': '???', 'popularity': 0, 'followers': 0}\n",
    "most_followers={'artist': '???', 'total': 0}\n",
    "for artist in artists:\n",
    "    if artist['popularity'] > most_popular['popularity']:\n",
    "        most_popular['artist']=artist['name']\n",
    "        most_popular['popularity']=artist['popularity']\n",
    "        most_popular['followers']=artist['followers']['total']\n",
    "    elif artist['popularity'] > second_most_popular['popularity']:\n",
    "        second_most_popular['artist']=artist['name']\n",
    "        second_most_popular['popularity']=artist['popularity']\n",
    "        second_most_popular['followers']=artist['followers']['total']\n",
    "    elif artist['popularity'] > third_most_popular['popularity']:\n",
    "        third_most_popular['artist']=artist['name']\n",
    "        third_most_popular['popularity']=artist['popularity']\n",
    "        third_most_popular['followers']=artist['followers']['total']\n",
    "    if artist['followers']['total'] > most_followers['total']:\n",
    "        most_followers['artist']=artist['name']\n",
    "        most_followers['total']=artist['followers']['total']\n",
    "print(\"The most popular Lil OTHER THAN (obviously) Lil Wayne is:\", second_most_popular['artist'])\n",
    "print(\"The next most popular Lil after that is:\", third_most_popular['artist'])\n",
    "if most_followers['artist']==most_popular['artist']:\n",
    "    print(most_followers['artist'], 'also has the most followers with', most_followers['total'])\n",
    "else:\n",
    "    print(\"The artist with the most followers is\", most_followers['artist'], 'with', most_followers['total'])\n"
   ]
  },
  {
   "cell_type": "code",
   "execution_count": 6,
   "metadata": {
    "collapsed": false
   },
   "outputs": [
    {
     "name": "stdout",
     "output_type": "stream",
     "text": [
      "Here's a list of all the lil's more popular than Lil' Kim: Lil Wayne, Lil Yachty, Lil Uzi Vert, Lil Dicky, Boosie Badazz, Lil Jon\n"
     ]
    }
   ],
   "source": [
    "more_popular_than_lil_kim=[]\n",
    "for artist in artists:\n",
    "    if int(artist['popularity']) > 62:\n",
    "        more_popular_than_lil_kim.append(artist['name'])\n",
    "print(\"Here's a list of all the lil's more popular than Lil' Kim:\", \", \".join(more_popular_than_lil_kim))"
   ]
  },
  {
   "cell_type": "code",
   "execution_count": 7,
   "metadata": {
    "collapsed": false
   },
   "outputs": [
    {
     "name": "stdout",
     "output_type": "stream",
     "text": [
      "The two best lil's are Boozie Badazz and Lil Dicky, for what should be obvious reasons.\n",
      "Here is a list of Boozie Badazz's top tracks:\n",
      "No Juice\n",
      "Wipe Me Down [Remix] - feat. Foxx, Webbie and Lil Boosie Explicit\n",
      "Like A Man (feat. Rich Homie Quan)\n",
      "Cancer\n",
      "Set It Off\n",
      "Smile To Keep From Crying\n",
      "Crazy\n",
      "Big Blue Hundreds\n",
      "Finish U\n",
      "Smoking On Purple (feat. Webbie)\n",
      "\n",
      "And now here is the same manner of thing but with Lil Dicky:\n",
      "$ave Dat Money (feat. Fetty Wap & Rich Homie Quan)\n",
      "Professional Rapper (feat. Snoop Dogg)\n",
      "Lemme Freak\n",
      "Molly (feat. Brendon Urie of Panic at the Disco)\n",
      "Personality (feat. T Pain)\n",
      "White Crime\n",
      "Bruh...\n",
      "Pillow Talking (feat. Brain)\n",
      "Who Knew\n",
      "Oh Well (feat. Jace of Two-9)\n"
     ]
    }
   ],
   "source": [
    "boozie_badazz=next((artist for artist in artists if artist['name']==\"Boosie Badazz\"), None)\n",
    "lil_dicky=next((artist for artist in artists if artist['name']==\"Lil Dicky\"), None)\n",
    "response=requests.get('https://api.spotify.com/v1/artists/'+boozie_badazz['id']+'/top-tracks?country=US')\n",
    "boozie_badazz_top=response.json()\n",
    "response=requests.get('https://api.spotify.com/v1/artists/'+lil_dicky['id']+'/top-tracks?country=US')\n",
    "lil_dicky_top=response.json()\n",
    "print(\"The two best lil's are Boozie Badazz and Lil Dicky, for what should be obvious reasons.\")\n",
    "print(\"Here is a list of Boozie Badazz's top tracks:\")\n",
    "for track in boozie_badazz_top['tracks']:\n",
    "    print(track['name'])\n",
    "print()\n",
    "print(\"And now here is the same manner of thing but with Lil Dicky:\")\n",
    "for track in lil_dicky_top['tracks']:\n",
    "    print(track['name'])"
   ]
  },
  {
   "cell_type": "code",
   "execution_count": 41,
   "metadata": {
    "collapsed": false
   },
   "outputs": [
    {
     "name": "stdout",
     "output_type": "stream",
     "text": [
      "Boozie Badass has 10 explicit tracks, totaling 37.26 minutes in duration, with an average rating of 50.6\n",
      "Boozie Badazz struggles making songs sans swears and therefore has none\n",
      "Lil Dicky has 10 explicit tracks, totaling 49.72 minutes in duration, with an average rating of 62.2\n",
      "Lil Dicky struggles making songs sans swears and therefore has none\n"
     ]
    }
   ],
   "source": [
    "explicit={\"pop_total\": 0, \"track_total\": 0, \"dur_total\": 0}\n",
    "non_explicit={\"pop_total\": 0, \"track_total\": 0, \"dur_total\": 0}\n",
    "for track in boozie_badazz_top['tracks']:\n",
    "    if track['explicit']:\n",
    "        explicit['track_total']=explicit['track_total']+1\n",
    "        explicit['pop_total']=explicit['pop_total']+track['popularity']\n",
    "        explicit['dur_total']=explicit['dur_total']+track['duration_ms']\n",
    "    else:\n",
    "        non_explicit['track_total']=non_explicit['track_total']+1\n",
    "        non_explicit['pop_total']=non_explicit['pop_total']+track['popularity']\n",
    "        non_explicit['dur_total']=non_explicit['dur_total']+track['duration_ms']\n",
    "if not explicit['track_total']:\n",
    "    print(\"Boozie Badazz is a gentleman with no naughty tracks\")\n",
    "else:\n",
    "    print(\"Boozie Badass has\", explicit['track_total'], \"explicit tracks, totaling\", format(explicit['dur_total']/60000, '.2f'), \"minutes in duration, with an average rating of\", explicit['pop_total']/explicit['track_total'])\n",
    "    if not non_explicit['track_total']:\n",
    "        print(\"Boozie Badazz struggles making songs sans swears and therefore has none\")\n",
    "    else:\n",
    "        print(\"Boozie Badass has\", non_explicit['track_total'], \"non-explicit tracks, totaling\", format(non_explicit['dur_total']/60000, '.2f'), \"minutes in duration, with an average rating of\", non_explicit['pop_total']/non_explicit['track_total'])\n",
    "\n",
    "explicit={\"pop_total\": 0, \"track_total\": 0, \"dur_total\": 0}\n",
    "non_explicit={\"pop_total\": 0, \"track_total\": 0, \"dur_total\": 0}\n",
    "for track in lil_dicky_top['tracks']:\n",
    "    if track['explicit']:\n",
    "        explicit['track_total']=explicit['track_total']+1\n",
    "        explicit['pop_total']=explicit['pop_total']+track['popularity']\n",
    "        explicit['dur_total']=explicit['dur_total']+track['duration_ms']\n",
    "    else:\n",
    "        non_explicit['track_total']=non_explicit['track_total']+1\n",
    "        non_explicit['pop_total']=non_explicit['pop_total']+track['popularity']\n",
    "        non_explicit['dur_total']=non_explicit['dur_total']+track['duration_ms']\n",
    "if not explicit['track_total']:\n",
    "    print(\"Lil Dicky is a gentleman with no naughty tracks\")\n",
    "else:\n",
    "    print(\"Lil Dicky has\", explicit['track_total'], \"explicit tracks, totaling\", format(explicit['dur_total']/60000, '.2f'), \"minutes in duration, with an average rating of\", explicit['pop_total']/explicit['track_total'])\n",
    "    if not non_explicit['track_total']:\n",
    "        print(\"Lil Dicky struggles making songs sans swears and therefore has none\")\n",
    "    else:\n",
    "        print(\"Lil Dicky has\", non_explicit['track_total'], \"non-explicit tracks, totaling\", format(non_explicit['dur_total']/60000, '.2f'), \"minutes in duration, with an average rating of\", non_explicit['pop_total']/non_explicit['track_total'])"
   ]
  },
  {
   "cell_type": "code",
   "execution_count": 66,
   "metadata": {
    "collapsed": false
   },
   "outputs": [],
   "source": [
    "lil_response = requests.get('https://api.spotify.com/v1/search?q=Lil&type=artist&limit=50')\n",
    "raw_lil_data=lil_response.json()\n",
    "top_50_lils=raw_lil_data['artists']['items']\n",
    "biggie_response = requests.get('https://api.spotify.com/v1/search?q=Biggie&type=artist&limit=50')\n",
    "raw_biggie_data=biggie_response.json()\n",
    "top_50_biggies=raw_biggie_data['artists']['items']"
   ]
  },
  {
   "cell_type": "code",
   "execution_count": 61,
   "metadata": {
    "collapsed": false
   },
   "outputs": [
    {
     "name": "stdout",
     "output_type": "stream",
     "text": [
      "There are 4501 Lils, and 49 Biggies\n",
      "That's way more Lils\n",
      "Requesting 1 Lil every 5 seconds is silly but it would also take you 375.08 minutes to get them all\n",
      "Biggies, meanwhile, would take 4.08 minutes\n"
     ]
    }
   ],
   "source": [
    "print(\"There are\", raw_lil_data['artists']['total'], \"Lils, and\", raw_biggie_data['artists']['total'], \"Biggies\")\n",
    "print(\"That's way more Lils\")\n",
    "print(\"Requesting 1 Lil every 5 seconds is silly but it would also take you\", format(raw_lil_data['artists']['total']*5/60, '.2f'), \"minutes to get them all\")\n",
    "print(\"Biggies, meanwhile, would take\", format(raw_biggie_data['artists']['total']*5/60, '.2f'), \"minutes\")"
   ]
  },
  {
   "cell_type": "code",
   "execution_count": 72,
   "metadata": {
    "collapsed": false
   },
   "outputs": [
    {
     "name": "stdout",
     "output_type": "stream",
     "text": [
      "Your average, everyday Lil has a popularity of 46.14\n",
      "Your average, everyday Biggie has a popularity of 3.90\n"
     ]
    }
   ],
   "source": [
    "lil_pop={'count': 0, \"total\": 0}\n",
    "biggie_pop={'count': 0, \"total\": 0}\n",
    "\n",
    "for lil in top_50_lils:\n",
    "    lil_pop['count']=lil_pop['count']+1\n",
    "    lil_pop['total']=lil_pop['total']+lil['popularity']\n",
    "print(\"Your average, everyday Lil has a popularity of\", lil_pop['total']/lil_pop['count'])\n",
    "for biggie in top_50_biggies:\n",
    "    biggie_pop['count']=biggie_pop['count']+1\n",
    "    biggie_pop['total']=biggie_pop['total']+biggie['popularity']\n",
    "print(\"Your average, everyday Biggie has a popularity of\", format(biggie_pop['total']/biggie_pop['count'], '.2f'))\n",
    "print(\"The lils are clearly winning this war\")"
   ]
  },
  {
   "cell_type": "code",
   "execution_count": null,
   "metadata": {
    "collapsed": true
   },
   "outputs": [],
   "source": []
  }
 ],
 "metadata": {
  "kernelspec": {
   "display_name": "Python 3",
   "language": "python",
   "name": "python3"
  },
  "language_info": {
   "codemirror_mode": {
    "name": "ipython",
    "version": 3
   },
   "file_extension": ".py",
   "mimetype": "text/x-python",
   "name": "python",
   "nbconvert_exporter": "python",
   "pygments_lexer": "ipython3",
   "version": "3.5.0"
  }
 },
 "nbformat": 4,
 "nbformat_minor": 0
}
