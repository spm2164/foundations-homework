{
 "cells": [
  {
   "cell_type": "markdown",
   "metadata": {},
   "source": [
    "Submit this and your other two notebooks (Spotify + NYT) to GitHub by Monday morning. If you're struggling with the previous assignment I recommend trying this one out instead, it's a lot simpler! I'll send out some readings later in the week, too.\n",
    "\n",
    "HOMEWORK 06\n",
    "\n",
    "You'll be using the Dark Sky Forecast API from Forecast.io, available at https://developer.forecast.io. It's a pretty simple API, but be sure to read the documentation!\n",
    "\n",
    "1) Make a request from the Forecast.io API for where you were born (or lived, or want to visit!).\n",
    "\n",
    "Tip: Once you've imported the JSON into a variable, check the timezone's name to make sure it seems like it got the right part of the world!\n",
    "Tip 2: How is north vs. south and east vs. west latitude/longitude represented? Is it the normal North/South/East/West?\n",
    "\n",
    "2) What's the current wind speed? How much warmer does it feel than it actually is?\n",
    "\n",
    "3) The first daily forecast is the forecast for today. For the place you decided on up above, how much of the moon is currently visible?\n",
    "\n",
    "4) What's the difference between the high and low temperatures for today?\n",
    "\n",
    "5) Loop through the daily forecast, printing out the next week's worth of predictions. I'd like to know the high temperature for each day, and whether it's hot, warm, or cold, based on what temperatures you think are hot, warm or cold.\n",
    "\n",
    "6) What's the weather looking like for the rest of today in Miami, Florida? I'd like to know the temperature for every hour, and if it's going to have cloud cover of more than 0.5 say \"{temperature} and cloudy\" instead of just the temperature.\n",
    "\n",
    "7) What was the temperature in Central Park on Christmas Day, 1980? How about 1990? 2000?\n",
    "\n",
    "Tip: You'll need to use UNIX time, which is the number of seconds since January 1, 1970. Google can help you convert a normal date!\n",
    "Tip: You'll want to use Forecast.io's \"time machine\" API at https://developer.forecast.io/docs/v2"
   ]
  },
  {
   "cell_type": "code",
   "execution_count": 1,
   "metadata": {
    "collapsed": true
   },
   "outputs": [],
   "source": [
    "import requests\n",
    "api='53343f8442d30d598f50f5910124610a'\n",
    "url='https://api.forecast.io/forecast/'\n",
    "# this is the lat/long for cleveland, oh\n",
    "lat='41.4993'\n",
    "long='-81.6944'"
   ]
  },
  {
   "cell_type": "code",
   "execution_count": 2,
   "metadata": {
    "collapsed": true
   },
   "outputs": [],
   "source": [
    "response=requests.get(url+api+'/'+lat+','+long)\n",
    "cleveland_weather=response.json()"
   ]
  },
  {
   "cell_type": "code",
   "execution_count": 3,
   "metadata": {
    "collapsed": false
   },
   "outputs": [
    {
     "name": "stdout",
     "output_type": "stream",
     "text": [
      "The timezone for the request was America/New_York\n"
     ]
    }
   ],
   "source": [
    "print(\"The timezone for the request was\", cleveland_weather['timezone'])"
   ]
  },
  {
   "cell_type": "code",
   "execution_count": 4,
   "metadata": {
    "collapsed": false
   },
   "outputs": [
    {
     "name": "stdout",
     "output_type": "stream",
     "text": [
      "The windspeed in Cleveland is currently 3.45 mph\n",
      "While it currently feels 84.11 it is actually 80.73 degrees F\n"
     ]
    }
   ],
   "source": [
    "print(\"The windspeed in Cleveland is currently\", cleveland_weather['currently']['windSpeed'], \"mph\")\n",
    "print(\"While it currently feels\", cleveland_weather['currently']['apparentTemperature'], \"it is actually\", cleveland_weather['currently']['temperature'], \"degrees F\")"
   ]
  },
  {
   "cell_type": "code",
   "execution_count": 5,
   "metadata": {
    "collapsed": false
   },
   "outputs": [
    {
     "name": "stdout",
     "output_type": "stream",
     "text": [
      "The moon in Cleveland is currently 5.0 percent full\n"
     ]
    }
   ],
   "source": [
    "print(\"The moon in Cleveland is currently\", cleveland_weather['daily']['data'][0]['moonPhase']*100, \"percent full\")"
   ]
  },
  {
   "cell_type": "code",
   "execution_count": 6,
   "metadata": {
    "collapsed": false
   },
   "outputs": [
    {
     "name": "stdout",
     "output_type": "stream",
     "text": [
      "The max temp in Cleveland today was 80.83 and the min was 69.61 which is a difference of 11.22 degrees\n"
     ]
    }
   ],
   "source": [
    "max_temp=cleveland_weather['daily']['data'][0]['temperatureMax']\n",
    "min_temp=cleveland_weather['daily']['data'][0]['temperatureMin']\n",
    "print(\"The max temp in Cleveland today was\", max_temp, \"and the min was\", min_temp, \"which is a difference of\", '%.2f' % (max_temp-min_temp), \"degrees\")"
   ]
  },
  {
   "cell_type": "code",
   "execution_count": 12,
   "metadata": {
    "collapsed": true
   },
   "outputs": [],
   "source": [
    "def temp_feeling(temp):\n",
    "    if temp <= 32:\n",
    "        return \"freezing cold!\"\n",
    "    elif temp <= 50:\n",
    "        return \"pretty cold.\"\n",
    "    elif temp <= 65:\n",
    "        return \"a little chill.\"\n",
    "    elif temp <= 75:\n",
    "        return \"downright nice.\"\n",
    "    elif temp <= 85:\n",
    "        return \"pretty warm.\"\n",
    "    else:\n",
    "        return \"freaking hot.\""
   ]
  },
  {
   "cell_type": "code",
   "execution_count": 15,
   "metadata": {
    "collapsed": false
   },
   "outputs": [
    {
     "name": "stdout",
     "output_type": "stream",
     "text": [
      "Here is your high temps for the week, including today:\n",
      "Day 0: 80.83 I would say that's pretty warm.\n",
      "Day 1: 86.4 I would say that's freaking hot.\n",
      "Day 2: 85.63 I would say that's freaking hot.\n",
      "Day 3: 86.8 I would say that's freaking hot.\n",
      "Day 4: 77.82 I would say that's pretty warm.\n",
      "Day 5: 77.5 I would say that's pretty warm.\n",
      "Day 6: 82.15 I would say that's pretty warm.\n",
      "Day 7: 88.47 I would say that's freaking hot.\n"
     ]
    }
   ],
   "source": [
    "print(\"Here is your high temps for the week, including today:\")\n",
    "for day, forecast in enumerate(cleveland_weather['daily']['data']):\n",
    "    temp=forecast['temperatureMax']\n",
    "    print(\"Day\", str(day)+\":\", temp, \"I would say that's\", temp_feeling(temp))"
   ]
  },
  {
   "cell_type": "code",
   "execution_count": 73,
   "metadata": {
    "collapsed": true
   },
   "outputs": [],
   "source": [
    "# coords for miami florida\n",
    "lat='25.7617'\n",
    "long='-80.1918'\n",
    "response=requests.get(url+api+'/'+lat+','+long)\n",
    "miami_weather=response.json()"
   ]
  },
  {
   "cell_type": "code",
   "execution_count": 74,
   "metadata": {
    "collapsed": false
   },
   "outputs": [
    {
     "data": {
      "text/plain": [
       "dict_keys(['precipType', 'dewPoint', 'precipIntensity', 'humidity', 'apparentTemperature', 'windSpeed', 'ozone', 'time', 'cloudCover', 'icon', 'windBearing', 'temperature', 'summary', 'precipProbability', 'visibility', 'pressure'])"
      ]
     },
     "execution_count": 74,
     "metadata": {},
     "output_type": "execute_result"
    }
   ],
   "source": [
    "miami_weather['hourly']['data'][0].keys()"
   ]
  },
  {
   "cell_type": "code",
   "execution_count": 75,
   "metadata": {
    "collapsed": true
   },
   "outputs": [],
   "source": [
    "def is_midnight(hour):\n",
    "#    hour=datetime.datetime.fromtimestamp(int(time['time'])).strftime('%H')\n",
    "    if hour=='00':\n",
    "        return True\n",
    "    else:\n",
    "        return False"
   ]
  },
  {
   "cell_type": "code",
   "execution_count": 76,
   "metadata": {
    "collapsed": true
   },
   "outputs": [],
   "source": [
    "def time_to_hour(time):\n",
    "    hour=datetime.datetime.fromtimestamp(int(time['time'])).strftime('%H')\n",
    "    return hour"
   ]
  },
  {
   "cell_type": "code",
   "execution_count": 89,
   "metadata": {
    "collapsed": false
   },
   "outputs": [
    {
     "name": "stdout",
     "output_type": "stream",
     "text": [
      "Conditions in Miami for the rest of the day:\n",
      "20:00: 86.31°F and clear.\n",
      "21:00: 85.05°F and clear.\n",
      "22:00: 84.26°F and clear.\n",
      "23:00: 83.44°F and partly cloudy.\n",
      "00:00: 82.94°F and partly cloudy.\n"
     ]
    }
   ],
   "source": [
    "import datetime\n",
    "print('Conditions in Miami for the rest of the day:')\n",
    "for hour in miami_weather['hourly']['data']:\n",
    "    clock=time_to_hour(hour)\n",
    "    print(clock+':00:', str(hour['temperature'])+'°F and', hour['summary'].lower()+'.')\n",
    "    if is_midnight(clock):\n",
    "        break"
   ]
  },
  {
   "cell_type": "code",
   "execution_count": 108,
   "metadata": {
    "collapsed": false
   },
   "outputs": [],
   "source": [
    "def date_to_unixtime(date):\n",
    "    import time\n",
    "    unix_date=int(time.mktime(datetime.datetime.strptime(str(date), \"%Y%m%d\").timetuple()))\n",
    "    return str(unix_date)"
   ]
  },
  {
   "cell_type": "code",
   "execution_count": 123,
   "metadata": {
    "collapsed": false
   },
   "outputs": [
    {
     "name": "stdout",
     "output_type": "stream",
     "text": [
      "On Christmas of 1980 it was partly cloudy starting in the afternoon. The high temperature for that day was 41.58°F.\n",
      "On Christmas of 1990 it was foggy in the evening. The high temperature for that day was 32.27°F.\n",
      "On Christmas of 2000 it was mostly cloudy until evening. The high temperature for that day was 42.25°F.\n",
      "On Christmas of 2010 it was foggy starting in the evening. The high temperature for that day was 41°F.\n"
     ]
    }
   ],
   "source": [
    "# this way of looping through dates is pretty terrible\n",
    "api='53343f8442d30d598f50f5910124610a'\n",
    "url='https://api.forecast.io/forecast/'\n",
    "date=19801225\n",
    "lat='40.7829'\n",
    "long='73.9654'\n",
    "while date <= 20101225:\n",
    "    response=requests.get(url+api+'/'+lat+','+long+','+date_to_unixtime(date))\n",
    "    christmas_weather=response.json()\n",
    "    summary=christmas_weather['daily']['data'][0]['summary']\n",
    "    max_temp=christmas_weather['daily']['data'][0]['temperatureMax']\n",
    "    print(\"On Christmas of \"+str(date)[0:4], \"it was\", summary.lower(), \"The high temperature for that day was\", str(max_temp)+'°F.')\n",
    "    date+=100000"
   ]
  },
  {
   "cell_type": "code",
   "execution_count": 115,
   "metadata": {
    "collapsed": false
   },
   "outputs": [
    {
     "data": {
      "text/plain": [
       "'Foggy starting in the evening.'"
      ]
     },
     "execution_count": 115,
     "metadata": {},
     "output_type": "execute_result"
    }
   ],
   "source": []
  },
  {
   "cell_type": "code",
   "execution_count": null,
   "metadata": {
    "collapsed": true
   },
   "outputs": [],
   "source": []
  }
 ],
 "metadata": {
  "kernelspec": {
   "display_name": "IPython (Python 3)",
   "language": "python",
   "name": "python3"
  },
  "language_info": {
   "codemirror_mode": {
    "name": "ipython",
    "version": 3
   },
   "file_extension": ".py",
   "mimetype": "text/x-python",
   "name": "python",
   "nbconvert_exporter": "python",
   "pygments_lexer": "ipython3",
   "version": "3.5.1+"
  }
 },
 "nbformat": 4,
 "nbformat_minor": 0
}
