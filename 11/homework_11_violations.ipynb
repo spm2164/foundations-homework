{
 "cells": [
  {
   "cell_type": "markdown",
   "metadata": {},
   "source": [
    "Homework 11: PARKING TICKETS\n",
    "\n",
    "Data is here: https://www.dropbox.com/s/4cbpwdcd802av1z/11-homework-data.zip?dl=0 [ www.dropbox.com/s/4cbpwdcd802av1z/11-homework-data.zip?dl=0 ]\n",
    "\n",
    "Read this: http://iquantny.tumblr.com/post/144197004989/the-nypd-was-systematically-ticketing-legally\n",
    "\n",
    "And the then we can take a peek at some data on parking. After you've cleaned up the data as instructed below, feel free to browse in other directions than the ones I say. When fixing up the data, you'll probably making a lot of use of date parsing and .apply.\n",
    "\n",
    "1. I want to make sure my Plate ID is a string. Can't lose the leading zeroes!\n",
    "2. I don't think anyone's car was built in 0AD. Discard the '0's as NaN.\n",
    "3. I want the dates to be dates! Read the read_csv documentation to find out how to make pandas automatically parse dates.\n",
    "4. \"Date first observed\" is a pretty weird column, but it seems like it has a date hiding inside. Using a function with .apply, transform the string (e.g. \"20140324\") into a Python date. Make the 0's show up as NaN.\n",
    "5. \"Violation time\" is... not a time. Make it a time.\n",
    "6.  There sure are a lot of colors of cars, too bad so many of them are the same. Make \"BLK\" and \"BLACK\", \"WT\" and \"WHITE\", and any other combinations that you notice.\n",
    "7. Join the data with the Parking Violations Code dataset from the NYC Open Data site.\n",
    "8. How much money did NYC make off of parking violations?\n",
    "9. What's the most lucrative kind of parking violation? The most frequent?\n",
    "10. New Jersey has bad drivers, but does it have bad parkers, too? How much money does NYC make off of all non-New York vehicles?\n",
    "11. Make a chart of the top few.\n",
    "12. What time of day do people usually get their tickets? You can break the day up into several blocks - for example 12am-6am, 6am-12pm, 12pm-6pm, 6pm-12am.\n",
    "13. What's the average ticket cost in NYC?\n",
    "14. Make a graph of the number of tickets per day.\n",
    "15. Make a graph of the amount of revenue collected per day.\n",
    "16. Manually construct a dataframe out of https://dmv.ny.gov/statistic/2015licinforce-web.pdf (only NYC boroughts - bronx, queens, manhattan, staten island, brooklyn), having columns for borough name, abbreviation, and number of licensed drivers.\n",
    "17. What's the parking-ticket-$-per-licensed-driver in each borough of NYC? Do this with pandas and the dataframe you just made, not with your head!"
   ]
  },
  {
   "cell_type": "code",
   "execution_count": 562,
   "metadata": {
    "collapsed": false
   },
   "outputs": [],
   "source": [
    "import pandas as pd\n",
    "import numpy as np\n",
    "from dateutil import parser\n",
    "from time import strptime\n",
    "from time import mktime\n",
    "from datetime import datetime\n",
    "import math\n",
    "import matplotlib.pyplot\n",
    "%matplotlib inline"
   ]
  },
  {
   "cell_type": "code",
   "execution_count": 342,
   "metadata": {
    "collapsed": false
   },
   "outputs": [],
   "source": [
    "def timefixer(time):\n",
    "    return_time=time\n",
    "    return_time.replace('+', '0')\n",
    "    if time == 'nan':\n",
    "        return np.nan\n",
    "    if time[0:2]=='00':\n",
    "        hour='12'\n",
    "        rest=time[2:]\n",
    "        return_time=hour+rest\n",
    "    #strptime(row, '%I%M%p')\n",
    "    try:\n",
    "        return strptime(return_time, '%I%M%p')\n",
    "    except:\n",
    "        return np.nan"
   ]
  },
  {
   "cell_type": "code",
   "execution_count": 346,
   "metadata": {
    "collapsed": false
   },
   "outputs": [
    {
     "name": "stderr",
     "output_type": "stream",
     "text": [
      "/home/sean/.local/lib/python3.5/site-packages/IPython/core/interactiveshell.py:2723: DtypeWarning: Columns (18,29,38,39) have mixed types. Specify dtype option on import or set low_memory=False.\n",
      "  interactivity=interactivity, compiler=compiler, result=result)\n"
     ]
    }
   ],
   "source": [
    "violations_df=pd.read_csv('violations.csv', nrows=100000)"
   ]
  },
  {
   "cell_type": "code",
   "execution_count": 347,
   "metadata": {
    "collapsed": false,
    "scrolled": true
   },
   "outputs": [
    {
     "data": {
      "text/plain": [
       "Index(['Summons Number', 'Plate ID', 'Registration State', 'Plate Type',\n",
       "       'Issue Date', 'Violation Code', 'Vehicle Body Type', 'Vehicle Make',\n",
       "       'Issuing Agency', 'Street Code1', 'Street Code2', 'Street Code3',\n",
       "       'Vehicle Expiration Date', 'Violation Location', 'Violation Precinct',\n",
       "       'Issuer Precinct', 'Issuer Code', 'Issuer Command', 'Issuer Squad',\n",
       "       'Violation Time', 'Time First Observed', 'Violation County',\n",
       "       'Violation In Front Of Or Opposite', 'House Number', 'Street Name',\n",
       "       'Intersecting Street', 'Date First Observed', 'Law Section',\n",
       "       'Sub Division', 'Violation Legal Code', 'Days Parking In Effect    ',\n",
       "       'From Hours In Effect', 'To Hours In Effect', 'Vehicle Color',\n",
       "       'Unregistered Vehicle?', 'Vehicle Year', 'Meter Number',\n",
       "       'Feet From Curb', 'Violation Post Code', 'Violation Description',\n",
       "       'No Standing or Stopping Violation', 'Hydrant Violation',\n",
       "       'Double Parking Violation'],\n",
       "      dtype='object')"
      ]
     },
     "execution_count": 347,
     "metadata": {},
     "output_type": "execute_result"
    }
   ],
   "source": [
    "violations_df.columns"
   ]
  },
  {
   "cell_type": "markdown",
   "metadata": {},
   "source": [
    "I want to make sure my Plate ID is a string. Can't lose the leading zeroes!"
   ]
  },
  {
   "cell_type": "code",
   "execution_count": 348,
   "metadata": {
    "collapsed": false
   },
   "outputs": [
    {
     "data": {
      "text/plain": [
       "str"
      ]
     },
     "execution_count": 348,
     "metadata": {},
     "output_type": "execute_result"
    }
   ],
   "source": [
    "type(violations_df['Plate ID'][0])"
   ]
  },
  {
   "cell_type": "markdown",
   "metadata": {},
   "source": [
    "I don't think anyone's car was built in 0AD. Discard the '0's as NaN."
   ]
  },
  {
   "cell_type": "code",
   "execution_count": 349,
   "metadata": {
    "collapsed": false,
    "scrolled": true
   },
   "outputs": [],
   "source": [
    "violations_df['Vehicle Year']=violations_df['Vehicle Year'].apply(lambda row: row if row!=0 else np.nan)"
   ]
  },
  {
   "cell_type": "code",
   "execution_count": 350,
   "metadata": {
    "collapsed": false
   },
   "outputs": [
    {
     "data": {
      "text/plain": [
       "0    2013.0\n",
       "1    2012.0\n",
       "2       NaN\n",
       "3    2010.0\n",
       "4    2012.0\n",
       "Name: Vehicle Year, dtype: float64"
      ]
     },
     "execution_count": 350,
     "metadata": {},
     "output_type": "execute_result"
    }
   ],
   "source": [
    "violations_df['Vehicle Year'].head()"
   ]
  },
  {
   "cell_type": "markdown",
   "metadata": {},
   "source": [
    "I want the dates to be dates! Read the read_csv documentation to find out how to make pandas automatically parse dates."
   ]
  },
  {
   "cell_type": "code",
   "execution_count": 351,
   "metadata": {
    "collapsed": false,
    "scrolled": true
   },
   "outputs": [],
   "source": [
    "violations_df['Issue Date']=pd.to_datetime(violations_df['Issue Date'])"
   ]
  },
  {
   "cell_type": "code",
   "execution_count": 352,
   "metadata": {
    "collapsed": false
   },
   "outputs": [
    {
     "data": {
      "text/plain": [
       "Timestamp('2013-08-04 00:00:00')"
      ]
     },
     "execution_count": 352,
     "metadata": {},
     "output_type": "execute_result"
    }
   ],
   "source": [
    "violations_df['Issue Date'][0]"
   ]
  },
  {
   "cell_type": "markdown",
   "metadata": {},
   "source": [
    "\"Date first observed\" is a pretty weird column, but it seems like it has a date hiding inside. Using a function with .apply, transform the string (e.g. \"20140324\") into a Python date. Make the 0's show up as NaN."
   ]
  },
  {
   "cell_type": "code",
   "execution_count": 353,
   "metadata": {
    "collapsed": false
   },
   "outputs": [],
   "source": [
    "violations_df['Date First Observed']=violations_df['Date First Observed'].apply(lambda row: parser.parse(str(row)) if row!=0 else np.nan)"
   ]
  },
  {
   "cell_type": "markdown",
   "metadata": {},
   "source": [
    "\"Violation time\" is... not a time. Make it a time."
   ]
  },
  {
   "cell_type": "code",
   "execution_count": 355,
   "metadata": {
    "collapsed": false
   },
   "outputs": [
    {
     "data": {
      "text/plain": [
       "time.struct_time(tm_year=1900, tm_mon=1, tm_mday=1, tm_hour=7, tm_min=52, tm_sec=0, tm_wday=0, tm_yday=1, tm_isdst=-1)"
      ]
     },
     "execution_count": 355,
     "metadata": {},
     "output_type": "execute_result"
    }
   ],
   "source": [
    "strptime(thing, '%I%M%p')"
   ]
  },
  {
   "cell_type": "code",
   "execution_count": 356,
   "metadata": {
    "collapsed": false
   },
   "outputs": [
    {
     "data": {
      "text/plain": [
       "0    0752A\n",
       "Name: Violation Time, dtype: object"
      ]
     },
     "execution_count": 356,
     "metadata": {},
     "output_type": "execute_result"
    }
   ],
   "source": [
    "violations_df['Violation Time'].head(1)"
   ]
  },
  {
   "cell_type": "code",
   "execution_count": 357,
   "metadata": {
    "collapsed": false
   },
   "outputs": [],
   "source": [
    "violations_df['Violation Time']=violations_df['Violation Time'].apply(lambda row: str(row).replace('A', 'am')).apply(lambda row: str(row).replace('P', 'pm'))"
   ]
  },
  {
   "cell_type": "code",
   "execution_count": 358,
   "metadata": {
    "collapsed": false
   },
   "outputs": [
    {
     "data": {
      "text/plain": [
       "0    0752am\n",
       "Name: Violation Time, dtype: object"
      ]
     },
     "execution_count": 358,
     "metadata": {},
     "output_type": "execute_result"
    }
   ],
   "source": [
    "violations_df['Violation Time'].head(1)"
   ]
  },
  {
   "cell_type": "code",
   "execution_count": 359,
   "metadata": {
    "collapsed": false
   },
   "outputs": [
    {
     "data": {
      "text/plain": [
       "True"
      ]
     },
     "execution_count": 359,
     "metadata": {},
     "output_type": "execute_result"
    }
   ],
   "source": [
    "np.nan is np.nan"
   ]
  },
  {
   "cell_type": "code",
   "execution_count": 360,
   "metadata": {
    "collapsed": false,
    "scrolled": true
   },
   "outputs": [],
   "source": [
    "violations_df['Violation Time']=violations_df['Violation Time'].apply(lambda row: timefixer(row))"
   ]
  },
  {
   "cell_type": "markdown",
   "metadata": {},
   "source": [
    "There sure are a lot of colors of cars, too bad so many of them are the same. Make \"BLK\" and \"BLACK\", \"WT\" and \"WHITE\", and any other combinations that you notice."
   ]
  },
  {
   "cell_type": "code",
   "execution_count": 438,
   "metadata": {
    "collapsed": true
   },
   "outputs": [],
   "source": [
    "def colorfixer(color):\n",
    "    if color in ['BLK', 'BALCK', 'BLACL', 'BK', 'BLCK', 'BLAC']:\n",
    "        return 'BLACK'\n",
    "    elif color in ['WH', 'WITE', 'WHT', 'WIHTE', 'W', 'WT', 'WHI', 'WYH', 'WHTE']:\n",
    "        return 'WHITE'\n",
    "    elif color in ['GY', 'GR', 'GRY', 'GREY']:\n",
    "        return 'GRAY'\n",
    "    elif color in ['GN', 'GRN', 'GREEB']:\n",
    "        return 'GREEN'\n",
    "    elif color in ['BR', 'SROWN', 'BN', 'BRW', 'BROW', 'BRN', 'BRWN', 'BRO', 'BWN']:\n",
    "        return 'BROWN'\n",
    "    elif color=='RD':\n",
    "        return 'RED'\n",
    "    elif color in ['BLU', 'BL', 'BLE', 'B LUE']:\n",
    "        return 'BLUE'\n",
    "    elif color=='TN':\n",
    "        return 'TAN'\n",
    "    elif color in ['YELL', 'YEL', 'YELLO', 'YL', 'YW', 'YELLW', 'YLW']:\n",
    "        return 'YELLOW'\n",
    "    elif color in ['ONG', 'ORAN', 'OR', 'ORANG', 'ORG']:\n",
    "        return 'ORANGE'\n",
    "    elif color in ['SIL', 'SL', 'SILV', 'SILVE', 'SILVR', 'SIVLE', 'SLVR', 'SLIVE', 'SLV', 'SIV', 'SLR']:\n",
    "        return 'SILVER'\n",
    "    elif color in ['GL', 'GLD', 'GD']:\n",
    "        return 'GOLD'\n",
    "    elif color in ['PURPL', 'PUR', 'PURP']:\n",
    "        return 'PURPLE'\n",
    "    elif color in ['BURGA', 'BURGU', 'BIRG', 'BURG', 'BUR']:\n",
    "        return 'BURGUNDY'\n",
    "    elif color in ['MAR', 'MARON', 'MAROO', 'MR']:\n",
    "        return 'MAROON'\n",
    "    elif color in ['BG', 'BIEGE']:\n",
    "        return 'BEIGE'\n",
    "    else:\n",
    "        return color\n",
    "    "
   ]
  },
  {
   "cell_type": "code",
   "execution_count": 439,
   "metadata": {
    "collapsed": false
   },
   "outputs": [],
   "source": [
    "violations_df['Vehicle Color']=violations_df['Vehicle Color'].apply(lambda row: colorfixer(row))"
   ]
  },
  {
   "cell_type": "code",
   "execution_count": 440,
   "metadata": {
    "collapsed": false,
    "scrolled": true
   },
   "outputs": [
    {
     "data": {
      "text/plain": [
       "WHITE       29082\n",
       "BLACK       16839\n",
       "GRAY        16531\n",
       "BROWN        8302\n",
       "BLUE         7228\n",
       "RED          5482\n",
       "SILVER       3607\n",
       "YELLOW       2080\n",
       "GREEN        1941\n",
       "TAN          1925\n",
       "GOLD          998\n",
       "ORANGE        303\n",
       "MAROON        277\n",
       "OTHER         203\n",
       "BEIGE         137\n",
       "BURGUNDY       82\n",
       "PURPLE         77\n",
       "LTGY           58\n",
       "BW             29\n",
       "WHBL           26\n",
       "PR             25\n",
       "G              24\n",
       "R              23\n",
       "DKGY           23\n",
       "B              21\n",
       "LTG            21\n",
       "WH/BL          18\n",
       "DKBL           18\n",
       "LT-GY          16\n",
       "UNK            15\n",
       "            ...  \n",
       "RD-RD           1\n",
       "SLV/B           1\n",
       "TPE             1\n",
       "BKTN            1\n",
       "JDE             1\n",
       "GHTBL           1\n",
       "SIIL            1\n",
       "TN/RD           1\n",
       "WJOTE           1\n",
       "PL              1\n",
       "BKE             1\n",
       "BROWM           1\n",
       "WHO             1\n",
       "TNGY            1\n",
       "BKUE            1\n",
       "GREW            1\n",
       "DRK             1\n",
       "WHWH            1\n",
       "GR-BL           1\n",
       "YWGY            1\n",
       "BAR             1\n",
       "BI              1\n",
       "SMOKE           1\n",
       "TL/GN           1\n",
       "WT/OR           1\n",
       "BEI             1\n",
       "WHYW            1\n",
       "GY-TN           1\n",
       "PICK            1\n",
       "GY/BL           1\n",
       "Name: Vehicle Color, dtype: int64"
      ]
     },
     "execution_count": 440,
     "metadata": {},
     "output_type": "execute_result"
    }
   ],
   "source": [
    "violations_df['Vehicle Color'].value_counts()"
   ]
  },
  {
   "cell_type": "markdown",
   "metadata": {},
   "source": [
    "Join the data with the Parking Violations Code dataset from the NYC Open Data site."
   ]
  },
  {
   "cell_type": "code",
   "execution_count": 441,
   "metadata": {
    "collapsed": true
   },
   "outputs": [],
   "source": [
    "codes_df=pd.read_csv('DOF_Parking_Violation_Codes.csv')"
   ]
  },
  {
   "cell_type": "code",
   "execution_count": 442,
   "metadata": {
    "collapsed": false,
    "scrolled": true
   },
   "outputs": [
    {
     "data": {
      "text/plain": [
       "Index(['CODE', 'DEFINITION', 'Manhattan  96th St. & below', 'All Other Areas'], dtype='object')"
      ]
     },
     "execution_count": 442,
     "metadata": {},
     "output_type": "execute_result"
    }
   ],
   "source": [
    "codes_df.columns"
   ]
  },
  {
   "cell_type": "code",
   "execution_count": 443,
   "metadata": {
    "collapsed": false
   },
   "outputs": [
    {
     "data": {
      "text/plain": [
       "Index(['Summons Number', 'Plate ID', 'Registration State', 'Plate Type',\n",
       "       'Issue Date', 'Violation Code', 'Vehicle Body Type', 'Vehicle Make',\n",
       "       'Issuing Agency', 'Street Code1', 'Street Code2', 'Street Code3',\n",
       "       'Vehicle Expiration Date', 'Violation Location', 'Violation Precinct',\n",
       "       'Issuer Precinct', 'Issuer Code', 'Issuer Command', 'Issuer Squad',\n",
       "       'Violation Time', 'Time First Observed', 'Violation County',\n",
       "       'Violation In Front Of Or Opposite', 'House Number', 'Street Name',\n",
       "       'Intersecting Street', 'Date First Observed', 'Law Section',\n",
       "       'Sub Division', 'Violation Legal Code', 'Days Parking In Effect    ',\n",
       "       'From Hours In Effect', 'To Hours In Effect', 'Vehicle Color',\n",
       "       'Unregistered Vehicle?', 'Vehicle Year', 'Meter Number',\n",
       "       'Feet From Curb', 'Violation Post Code', 'Violation Description',\n",
       "       'No Standing or Stopping Violation', 'Hydrant Violation',\n",
       "       'Double Parking Violation'],\n",
       "      dtype='object')"
      ]
     },
     "execution_count": 443,
     "metadata": {},
     "output_type": "execute_result"
    }
   ],
   "source": [
    "violations_df.columns"
   ]
  },
  {
   "cell_type": "code",
   "execution_count": 468,
   "metadata": {
    "collapsed": false
   },
   "outputs": [],
   "source": [
    "pd.merge?"
   ]
  },
  {
   "cell_type": "code",
   "execution_count": 446,
   "metadata": {
    "collapsed": true
   },
   "outputs": [],
   "source": [
    "codes_df['Violation Code']=codes_df['CODE']"
   ]
  },
  {
   "cell_type": "code",
   "execution_count": 480,
   "metadata": {
    "collapsed": false
   },
   "outputs": [],
   "source": [
    "violations_df['CODE']=violations_df['Violation Code'].apply(lambda row: str(row))"
   ]
  },
  {
   "cell_type": "code",
   "execution_count": 483,
   "metadata": {
    "collapsed": true
   },
   "outputs": [],
   "source": [
    "df=pd.merge(left=violations_df, right=codes_df, on='CODE')#, how='outer')"
   ]
  },
  {
   "cell_type": "code",
   "execution_count": 487,
   "metadata": {
    "collapsed": false
   },
   "outputs": [
    {
     "data": {
      "text/plain": [
       "Index(['Summons Number', 'Plate ID', 'Registration State', 'Plate Type',\n",
       "       'Issue Date', 'Violation Code', 'Vehicle Body Type', 'Vehicle Make',\n",
       "       'Issuing Agency', 'Street Code1', 'Street Code2', 'Street Code3',\n",
       "       'Vehicle Expiration Date', 'Violation Location', 'Violation Precinct',\n",
       "       'Issuer Precinct', 'Issuer Code', 'Issuer Command', 'Issuer Squad',\n",
       "       'Violation Time', 'Time First Observed', 'Violation County',\n",
       "       'Violation In Front Of Or Opposite', 'House Number', 'Street Name',\n",
       "       'Intersecting Street', 'Date First Observed', 'Law Section',\n",
       "       'Sub Division', 'Violation Legal Code', 'Days Parking In Effect    ',\n",
       "       'From Hours In Effect', 'To Hours In Effect', 'Vehicle Color',\n",
       "       'Unregistered Vehicle?', 'Vehicle Year', 'Meter Number',\n",
       "       'Feet From Curb', 'Violation Post Code', 'Violation Description',\n",
       "       'No Standing or Stopping Violation', 'Hydrant Violation',\n",
       "       'Double Parking Violation', 'CODE', 'DEFINITION',\n",
       "       'Manhattan  96th St. & below', 'All Other Areas'],\n",
       "      dtype='object')"
      ]
     },
     "execution_count": 487,
     "metadata": {},
     "output_type": "execute_result"
    }
   ],
   "source": [
    "df.columns"
   ]
  },
  {
   "cell_type": "markdown",
   "metadata": {},
   "source": [
    "How much money did NYC make off of parking violations?"
   ]
  },
  {
   "cell_type": "code",
   "execution_count": 499,
   "metadata": {
    "collapsed": true
   },
   "outputs": [],
   "source": [
    "def dollarfixer(amount):\n",
    "    import re\n",
    "    dollar=re.search(r'[0-9]+', amount)\n",
    "    if dollar:\n",
    "        return int(dollar.group())\n",
    "    else:\n",
    "        return 0"
   ]
  },
  {
   "cell_type": "code",
   "execution_count": 500,
   "metadata": {
    "collapsed": false
   },
   "outputs": [
    {
     "data": {
      "text/plain": [
       "115"
      ]
     },
     "execution_count": 500,
     "metadata": {},
     "output_type": "execute_result"
    }
   ],
   "source": [
    "dollarfixer('$115')"
   ]
  },
  {
   "cell_type": "code",
   "execution_count": 501,
   "metadata": {
    "collapsed": false
   },
   "outputs": [],
   "source": [
    "df['ticket cost']=df['Manhattan\\xa0 96th St. & below'].apply(lambda row: dollarfixer(row))"
   ]
  },
  {
   "cell_type": "code",
   "execution_count": 502,
   "metadata": {
    "collapsed": false
   },
   "outputs": [
    {
     "data": {
      "text/plain": [
       "6567120"
      ]
     },
     "execution_count": 502,
     "metadata": {},
     "output_type": "execute_result"
    }
   ],
   "source": [
    "df['ticket cost'].sum()"
   ]
  },
  {
   "cell_type": "markdown",
   "metadata": {},
   "source": [
    "What's the most lucrative kind of parking violation? The most frequent?"
   ]
  },
  {
   "cell_type": "code",
   "execution_count": 513,
   "metadata": {
    "collapsed": false
   },
   "outputs": [
    {
     "data": {
      "text/plain": [
       "DEFINITION\n",
       "Standing or parking on the roadway side of a vehicle stopped, standing or parked at the curb; in other words also known as \"double parking\". However, a person may stand a Commercial Vehicle alongside a vehicle parked at the curb at such locations and during such hours that stopping, standing and parking is allowed when quickly making pickups, deliveries or service calls. This is allowed if there is no parking space or marked loading zone on either side of the street within 100 feet. \"Double parking\" any type of vehicle is not allowed in Midtown Manhattan (the area from 14th Street to 60th Street, between First Avenue and Eighth Avenue inclusive). Midtown double parking is not allowed between 7:00am  – 7:00pm daily except Sundays. (See Code 47.)    1696710\n",
       "Name: ticket cost, dtype: int64"
      ]
     },
     "execution_count": 513,
     "metadata": {},
     "output_type": "execute_result"
    }
   ],
   "source": [
    "df.groupby(by='DEFINITION')['ticket cost'].sum().sort_values(ascending=False).head(1)"
   ]
  },
  {
   "cell_type": "code",
   "execution_count": 514,
   "metadata": {
    "collapsed": false
   },
   "outputs": [
    {
     "data": {
      "text/plain": [
       "DEFINITION\n",
       "Standing or parking on the roadway side of a vehicle stopped, standing or parked at the curb; in other words also known as \"double parking\". However, a person may stand a Commercial Vehicle alongside a vehicle parked at the curb at such locations and during such hours that stopping, standing and parking is allowed when quickly making pickups, deliveries or service calls. This is allowed if there is no parking space or marked loading zone on either side of the street within 100 feet. \"Double parking\" any type of vehicle is not allowed in Midtown Manhattan (the area from 14th Street to 60th Street, between First Avenue and Eighth Avenue inclusive). Midtown double parking is not allowed between 7:00am  – 7:00pm daily except Sundays. (See Code 47.)    14754\n",
       "Name: DEFINITION, dtype: int64"
      ]
     },
     "execution_count": 514,
     "metadata": {},
     "output_type": "execute_result"
    }
   ],
   "source": [
    "df.groupby(by='DEFINITION')['DEFINITION'].count().sort_values(ascending=False).head(1)"
   ]
  },
  {
   "cell_type": "markdown",
   "metadata": {},
   "source": [
    "New Jersey has bad drivers, but does it have bad parkers, too? How much money does NYC make off of all non-New York vehicles?\n",
    "Make a chart of the top few.\n"
   ]
  },
  {
   "cell_type": "code",
   "execution_count": 518,
   "metadata": {
    "collapsed": false
   },
   "outputs": [
    {
     "data": {
      "text/plain": [
       "1915625"
      ]
     },
     "execution_count": 518,
     "metadata": {},
     "output_type": "execute_result"
    }
   ],
   "source": [
    "df[df['Registration State']!='NY']['ticket cost'].sum()"
   ]
  },
  {
   "cell_type": "code",
   "execution_count": 530,
   "metadata": {
    "collapsed": false,
    "scrolled": true
   },
   "outputs": [],
   "source": [
    "out_of_state=df[df['Registration State']!='NY'].groupby(by='Registration State')['ticket cost'].sum().sort_values(ascending=False).head(10)"
   ]
  },
  {
   "cell_type": "code",
   "execution_count": 532,
   "metadata": {
    "collapsed": false
   },
   "outputs": [
    {
     "data": {
      "image/png": "[encoded data removed]",
      "text/plain": [
       "<matplotlib.figure.Figure at 0x7fdafe31fa20>"
      ]
     },
     "metadata": {},
     "output_type": "display_data"
    }
   ],
   "source": [
    "out_of_state.plot(kind='barh').invert_yaxis()"
   ]
  },
  {
   "cell_type": "markdown",
   "metadata": {},
   "source": [
    "What time of day do people usually get their tickets? You can break the day up into several blocks - for example 12am-6am, 6am-12pm, 12pm-6pm, 6pm-12am.\n",
    "What's the average ticket cost in NYC?\n",
    "Make a graph of the number of tickets per day.\n",
    "Make a graph of the amount of revenue collected per day.\n",
    "Manually construct a dataframe out of https://dmv.ny.gov/statistic/2015licinforce-web.pdf (only NYC boroughts - bronx, queens, manhattan, staten island, brooklyn), having columns for borough name, abbreviation, and number of licensed drivers.\n",
    "What's the parking-ticket-$-per-licensed-driver in each borough of NYC? Do this with pandas and the dataframe you just made, not with your head!"
   ]
  },
  {
   "cell_type": "code",
   "execution_count": null,
   "metadata": {
    "collapsed": true
   },
   "outputs": [],
   "source": [
    "dt = "
   ]
  },
  {
   "cell_type": "code",
   "execution_count": 563,
   "metadata": {
    "collapsed": false
   },
   "outputs": [
    {
     "ename": "TypeError",
     "evalue": "Tuple or struct_time argument required",
     "output_type": "error",
     "traceback": [
      "\u001b[1;31m---------------------------------------------------------------------------\u001b[0m",
      "\u001b[1;31mTypeError\u001b[0m                                 Traceback (most recent call last)",
      "\u001b[1;32m<ipython-input-563-b432c11e33de>\u001b[0m in \u001b[0;36m<module>\u001b[1;34m()\u001b[0m\n\u001b[1;32m----> 1\u001b[1;33m \u001b[0mdf\u001b[0m\u001b[1;33m[\u001b[0m\u001b[1;34m'Violation Time'\u001b[0m\u001b[1;33m]\u001b[0m\u001b[1;33m.\u001b[0m\u001b[0mapply\u001b[0m\u001b[1;33m(\u001b[0m\u001b[1;32mlambda\u001b[0m \u001b[0mx\u001b[0m\u001b[1;33m:\u001b[0m \u001b[0mdatetime\u001b[0m\u001b[1;33m.\u001b[0m\u001b[0mfromtimestamp\u001b[0m\u001b[1;33m(\u001b[0m\u001b[0mmktime\u001b[0m\u001b[1;33m(\u001b[0m\u001b[0mx\u001b[0m\u001b[1;33m)\u001b[0m\u001b[1;33m)\u001b[0m\u001b[1;33m)\u001b[0m\u001b[1;31m#groupby(by=tm_hour)\u001b[0m\u001b[1;33m\u001b[0m\u001b[0m\n\u001b[0m",
      "\u001b[1;32m/usr/local/lib/python3.5/dist-packages/pandas/core/series.py\u001b[0m in \u001b[0;36mapply\u001b[1;34m(self, func, convert_dtype, args, **kwds)\u001b[0m\n\u001b[0;32m   2218\u001b[0m         \u001b[1;32melse\u001b[0m\u001b[1;33m:\u001b[0m\u001b[1;33m\u001b[0m\u001b[0m\n\u001b[0;32m   2219\u001b[0m             \u001b[0mvalues\u001b[0m \u001b[1;33m=\u001b[0m \u001b[0mself\u001b[0m\u001b[1;33m.\u001b[0m\u001b[0masobject\u001b[0m\u001b[1;33m\u001b[0m\u001b[0m\n\u001b[1;32m-> 2220\u001b[1;33m             \u001b[0mmapped\u001b[0m \u001b[1;33m=\u001b[0m \u001b[0mlib\u001b[0m\u001b[1;33m.\u001b[0m\u001b[0mmap_infer\u001b[0m\u001b[1;33m(\u001b[0m\u001b[0mvalues\u001b[0m\u001b[1;33m,\u001b[0m \u001b[0mf\u001b[0m\u001b[1;33m,\u001b[0m \u001b[0mconvert\u001b[0m\u001b[1;33m=\u001b[0m\u001b[0mconvert_dtype\u001b[0m\u001b[1;33m)\u001b[0m\u001b[1;33m\u001b[0m\u001b[0m\n\u001b[0m\u001b[0;32m   2221\u001b[0m \u001b[1;33m\u001b[0m\u001b[0m\n\u001b[0;32m   2222\u001b[0m         \u001b[1;32mif\u001b[0m \u001b[0mlen\u001b[0m\u001b[1;33m(\u001b[0m\u001b[0mmapped\u001b[0m\u001b[1;33m)\u001b[0m \u001b[1;32mand\u001b[0m \u001b[0misinstance\u001b[0m\u001b[1;33m(\u001b[0m\u001b[0mmapped\u001b[0m\u001b[1;33m[\u001b[0m\u001b[1;36m0\u001b[0m\u001b[1;33m]\u001b[0m\u001b[1;33m,\u001b[0m \u001b[0mSeries\u001b[0m\u001b[1;33m)\u001b[0m\u001b[1;33m:\u001b[0m\u001b[1;33m\u001b[0m\u001b[0m\n",
      "\u001b[1;32mpandas/src/inference.pyx\u001b[0m in \u001b[0;36mpandas.lib.map_infer (pandas/lib.c:62658)\u001b[1;34m()\u001b[0m\n",
      "\u001b[1;32m<ipython-input-563-b432c11e33de>\u001b[0m in \u001b[0;36m<lambda>\u001b[1;34m(x)\u001b[0m\n\u001b[1;32m----> 1\u001b[1;33m \u001b[0mdf\u001b[0m\u001b[1;33m[\u001b[0m\u001b[1;34m'Violation Time'\u001b[0m\u001b[1;33m]\u001b[0m\u001b[1;33m.\u001b[0m\u001b[0mapply\u001b[0m\u001b[1;33m(\u001b[0m\u001b[1;32mlambda\u001b[0m \u001b[0mx\u001b[0m\u001b[1;33m:\u001b[0m \u001b[0mdatetime\u001b[0m\u001b[1;33m.\u001b[0m\u001b[0mfromtimestamp\u001b[0m\u001b[1;33m(\u001b[0m\u001b[0mmktime\u001b[0m\u001b[1;33m(\u001b[0m\u001b[0mx\u001b[0m\u001b[1;33m)\u001b[0m\u001b[1;33m)\u001b[0m\u001b[1;33m)\u001b[0m\u001b[1;31m#groupby(by=tm_hour)\u001b[0m\u001b[1;33m\u001b[0m\u001b[0m\n\u001b[0m",
      "\u001b[1;31mTypeError\u001b[0m: Tuple or struct_time argument required"
     ]
    }
   ],
   "source": [
    "df['Violation Time'].apply(lambda x: datetime.fromtimestamp(mktime(x)))#groupby(by=tm_hour)"
   ]
  },
  {
   "cell_type": "code",
   "execution_count": null,
   "metadata": {
    "collapsed": true
   },
   "outputs": [],
   "source": []
  }
 ],
 "metadata": {
  "kernelspec": {
   "display_name": "IPython (Python 3)",
   "language": "python",
   "name": "python3"
  },
  "language_info": {
   "codemirror_mode": {
    "name": "ipython",
    "version": 3
   },
   "file_extension": ".py",
   "mimetype": "text/x-python",
   "name": "python",
   "nbconvert_exporter": "python",
   "pygments_lexer": "ipython3",
   "version": "3.5.1+"
  }
 },
 "nbformat": 4,
 "nbformat_minor": 0
}
